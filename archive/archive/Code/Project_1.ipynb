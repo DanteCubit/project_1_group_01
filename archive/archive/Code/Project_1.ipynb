{
 "cells": [
  {
   "cell_type": "code",
   "execution_count": 94,
   "id": "a0e0e483-255f-44c1-b080-3489bb6d1a65",
   "metadata": {},
   "outputs": [],
   "source": [
    "from pathlib import Path\n",
    "import pandas as pd\n",
    "import scipy.stats as stats\n",
    "import numpy as np\n",
    "import matplotlib.pyplot as plt\n",
    "import seaborn as sns"
   ]
  },
  {
   "cell_type": "code",
   "execution_count": 95,
   "id": "1acadb4a-e7a8-446c-af11-af0bf54cd08c",
   "metadata": {},
   "outputs": [
    {
     "data": {
      "text/html": [
       "<div>\n",
       "<style scoped>\n",
       "    .dataframe tbody tr th:only-of-type {\n",
       "        vertical-align: middle;\n",
       "    }\n",
       "\n",
       "    .dataframe tbody tr th {\n",
       "        vertical-align: top;\n",
       "    }\n",
       "\n",
       "    .dataframe thead th {\n",
       "        text-align: right;\n",
       "    }\n",
       "</style>\n",
       "<table border=\"1\" class=\"dataframe\">\n",
       "  <thead>\n",
       "    <tr style=\"text-align: right;\">\n",
       "      <th></th>\n",
       "      <th>Card</th>\n",
       "      <th>Quantity</th>\n",
       "      <th>Pilot</th>\n",
       "      <th>Archetype</th>\n",
       "      <th>Event</th>\n",
       "      <th>Date Posted</th>\n",
       "      <th>Main/Sideboard</th>\n",
       "      <th>Mana Value</th>\n",
       "      <th>Mana Cost</th>\n",
       "      <th>Colours</th>\n",
       "      <th>Most Recent Printing</th>\n",
       "      <th>Card Text</th>\n",
       "      <th>Type Line</th>\n",
       "      <th>Price EUR</th>\n",
       "      <th>Price USD</th>\n",
       "      <th>Rarity</th>\n",
       "    </tr>\n",
       "  </thead>\n",
       "  <tbody>\n",
       "    <tr>\n",
       "      <th>0</th>\n",
       "      <td>Hallowed Fountain</td>\n",
       "      <td>4</td>\n",
       "      <td>Pilot 1</td>\n",
       "      <td>Azorius Control</td>\n",
       "      <td>MTG China Open</td>\n",
       "      <td>2023-06-06</td>\n",
       "      <td>Mainboard</td>\n",
       "      <td>0.0</td>\n",
       "      <td>NaN</td>\n",
       "      <td>[]</td>\n",
       "      <td>2019-01-25</td>\n",
       "      <td>({T}: Add {W} or {U}.)\\nAs Hallowed Fountain e...</td>\n",
       "      <td>Land — Plains Island</td>\n",
       "      <td>11.93</td>\n",
       "      <td>11.31</td>\n",
       "      <td>rare</td>\n",
       "    </tr>\n",
       "    <tr>\n",
       "      <th>1</th>\n",
       "      <td>Prairie Stream</td>\n",
       "      <td>2</td>\n",
       "      <td>Pilot 1</td>\n",
       "      <td>Azorius Control</td>\n",
       "      <td>MTG China Open</td>\n",
       "      <td>2023-06-06</td>\n",
       "      <td>Mainboard</td>\n",
       "      <td>0.0</td>\n",
       "      <td>NaN</td>\n",
       "      <td>[]</td>\n",
       "      <td>2023-04-21</td>\n",
       "      <td>({T}: Add {W} or {U}.)\\nPrairie Stream enters ...</td>\n",
       "      <td>Land — Plains Island</td>\n",
       "      <td>0.21</td>\n",
       "      <td>0.16</td>\n",
       "      <td>rare</td>\n",
       "    </tr>\n",
       "    <tr>\n",
       "      <th>2</th>\n",
       "      <td>Irrigated Farmland</td>\n",
       "      <td>4</td>\n",
       "      <td>Pilot 1</td>\n",
       "      <td>Azorius Control</td>\n",
       "      <td>MTG China Open</td>\n",
       "      <td>2023-06-06</td>\n",
       "      <td>Mainboard</td>\n",
       "      <td>0.0</td>\n",
       "      <td>NaN</td>\n",
       "      <td>[]</td>\n",
       "      <td>2020-04-17</td>\n",
       "      <td>({T}: Add {W} or {U}.)\\nIrrigated Farmland ent...</td>\n",
       "      <td>Land — Plains Island</td>\n",
       "      <td>0.76</td>\n",
       "      <td>0.96</td>\n",
       "      <td>rare</td>\n",
       "    </tr>\n",
       "    <tr>\n",
       "      <th>3</th>\n",
       "      <td>Field of Ruin</td>\n",
       "      <td>2</td>\n",
       "      <td>Pilot 1</td>\n",
       "      <td>Azorius Control</td>\n",
       "      <td>MTG China Open</td>\n",
       "      <td>2023-06-06</td>\n",
       "      <td>Mainboard</td>\n",
       "      <td>0.0</td>\n",
       "      <td>NaN</td>\n",
       "      <td>[]</td>\n",
       "      <td>2023-04-21</td>\n",
       "      <td>{T}: Add {C}.\\n{2}, {T}, Sacrifice Field of Ru...</td>\n",
       "      <td>Land</td>\n",
       "      <td>0.05</td>\n",
       "      <td>0.15</td>\n",
       "      <td>uncommon</td>\n",
       "    </tr>\n",
       "    <tr>\n",
       "      <th>4</th>\n",
       "      <td>Fabled Passage</td>\n",
       "      <td>4</td>\n",
       "      <td>Pilot 1</td>\n",
       "      <td>Azorius Control</td>\n",
       "      <td>MTG China Open</td>\n",
       "      <td>2023-06-06</td>\n",
       "      <td>Mainboard</td>\n",
       "      <td>0.0</td>\n",
       "      <td>NaN</td>\n",
       "      <td>[]</td>\n",
       "      <td>2020-07-03</td>\n",
       "      <td>{T}, Sacrifice Fabled Passage: Search your lib...</td>\n",
       "      <td>Land</td>\n",
       "      <td>3.70</td>\n",
       "      <td>4.80</td>\n",
       "      <td>rare</td>\n",
       "    </tr>\n",
       "  </tbody>\n",
       "</table>\n",
       "</div>"
      ],
      "text/plain": [
       "                 Card  Quantity    Pilot        Archetype           Event  \\\n",
       "0   Hallowed Fountain         4  Pilot 1  Azorius Control  MTG China Open   \n",
       "1      Prairie Stream         2  Pilot 1  Azorius Control  MTG China Open   \n",
       "2  Irrigated Farmland         4  Pilot 1  Azorius Control  MTG China Open   \n",
       "3       Field of Ruin         2  Pilot 1  Azorius Control  MTG China Open   \n",
       "4      Fabled Passage         4  Pilot 1  Azorius Control  MTG China Open   \n",
       "\n",
       "  Date Posted Main/Sideboard  Mana Value Mana Cost Colours  \\\n",
       "0  2023-06-06      Mainboard         0.0       NaN      []   \n",
       "1  2023-06-06      Mainboard         0.0       NaN      []   \n",
       "2  2023-06-06      Mainboard         0.0       NaN      []   \n",
       "3  2023-06-06      Mainboard         0.0       NaN      []   \n",
       "4  2023-06-06      Mainboard         0.0       NaN      []   \n",
       "\n",
       "  Most Recent Printing                                          Card Text  \\\n",
       "0           2019-01-25  ({T}: Add {W} or {U}.)\\nAs Hallowed Fountain e...   \n",
       "1           2023-04-21  ({T}: Add {W} or {U}.)\\nPrairie Stream enters ...   \n",
       "2           2020-04-17  ({T}: Add {W} or {U}.)\\nIrrigated Farmland ent...   \n",
       "3           2023-04-21  {T}: Add {C}.\\n{2}, {T}, Sacrifice Field of Ru...   \n",
       "4           2020-07-03  {T}, Sacrifice Fabled Passage: Search your lib...   \n",
       "\n",
       "              Type Line  Price EUR  Price USD    Rarity  \n",
       "0  Land — Plains Island      11.93      11.31      rare  \n",
       "1  Land — Plains Island       0.21       0.16      rare  \n",
       "2  Land — Plains Island       0.76       0.96      rare  \n",
       "3                  Land       0.05       0.15  uncommon  \n",
       "4                  Land       3.70       4.80      rare  "
      ]
     },
     "execution_count": 95,
     "metadata": {},
     "output_type": "execute_result"
    }
   ],
   "source": [
    "# Create a file path\n",
    "filepath = \"../Resources/data.csv\"\n",
    "# Read in the data.\n",
    "df = pd.read_csv(filepath)\n",
    "df.head()"
   ]
  },
  {
   "cell_type": "code",
   "execution_count": 96,
   "id": "1d14ad5b-a22a-4092-a568-259dc0bb85bf",
   "metadata": {},
   "outputs": [],
   "source": [
    "df.drop(columns=[\"Date Posted\"], inplace=True)"
   ]
  },
  {
   "cell_type": "code",
   "execution_count": 97,
   "id": "acfabf0d-2a07-4439-9b8e-0e66419c7d0a",
   "metadata": {},
   "outputs": [
    {
     "data": {
      "text/html": [
       "<div>\n",
       "<style scoped>\n",
       "    .dataframe tbody tr th:only-of-type {\n",
       "        vertical-align: middle;\n",
       "    }\n",
       "\n",
       "    .dataframe tbody tr th {\n",
       "        vertical-align: top;\n",
       "    }\n",
       "\n",
       "    .dataframe thead th {\n",
       "        text-align: right;\n",
       "    }\n",
       "</style>\n",
       "<table border=\"1\" class=\"dataframe\">\n",
       "  <thead>\n",
       "    <tr style=\"text-align: right;\">\n",
       "      <th></th>\n",
       "      <th>Card</th>\n",
       "      <th>Quantity</th>\n",
       "      <th>Pilot</th>\n",
       "      <th>Archetype</th>\n",
       "      <th>Event</th>\n",
       "      <th>Main/Sideboard</th>\n",
       "      <th>Mana Value</th>\n",
       "      <th>Mana Cost</th>\n",
       "      <th>Colours</th>\n",
       "      <th>Most Recent Printing</th>\n",
       "      <th>Card Text</th>\n",
       "      <th>Type Line</th>\n",
       "      <th>Price EUR</th>\n",
       "      <th>Price USD</th>\n",
       "      <th>Rarity</th>\n",
       "    </tr>\n",
       "  </thead>\n",
       "  <tbody>\n",
       "    <tr>\n",
       "      <th>0</th>\n",
       "      <td>Hallowed Fountain</td>\n",
       "      <td>4</td>\n",
       "      <td>Pilot 1</td>\n",
       "      <td>Azorius Control</td>\n",
       "      <td>MTG China Open</td>\n",
       "      <td>Mainboard</td>\n",
       "      <td>0.0</td>\n",
       "      <td>NaN</td>\n",
       "      <td>[]</td>\n",
       "      <td>2019-01-25</td>\n",
       "      <td>({T}: Add {W} or {U}.)\\nAs Hallowed Fountain e...</td>\n",
       "      <td>Land — Plains Island</td>\n",
       "      <td>11.93</td>\n",
       "      <td>11.31</td>\n",
       "      <td>rare</td>\n",
       "    </tr>\n",
       "    <tr>\n",
       "      <th>1</th>\n",
       "      <td>Prairie Stream</td>\n",
       "      <td>2</td>\n",
       "      <td>Pilot 1</td>\n",
       "      <td>Azorius Control</td>\n",
       "      <td>MTG China Open</td>\n",
       "      <td>Mainboard</td>\n",
       "      <td>0.0</td>\n",
       "      <td>NaN</td>\n",
       "      <td>[]</td>\n",
       "      <td>2023-04-21</td>\n",
       "      <td>({T}: Add {W} or {U}.)\\nPrairie Stream enters ...</td>\n",
       "      <td>Land — Plains Island</td>\n",
       "      <td>0.21</td>\n",
       "      <td>0.16</td>\n",
       "      <td>rare</td>\n",
       "    </tr>\n",
       "    <tr>\n",
       "      <th>2</th>\n",
       "      <td>Irrigated Farmland</td>\n",
       "      <td>4</td>\n",
       "      <td>Pilot 1</td>\n",
       "      <td>Azorius Control</td>\n",
       "      <td>MTG China Open</td>\n",
       "      <td>Mainboard</td>\n",
       "      <td>0.0</td>\n",
       "      <td>NaN</td>\n",
       "      <td>[]</td>\n",
       "      <td>2020-04-17</td>\n",
       "      <td>({T}: Add {W} or {U}.)\\nIrrigated Farmland ent...</td>\n",
       "      <td>Land — Plains Island</td>\n",
       "      <td>0.76</td>\n",
       "      <td>0.96</td>\n",
       "      <td>rare</td>\n",
       "    </tr>\n",
       "    <tr>\n",
       "      <th>3</th>\n",
       "      <td>Field of Ruin</td>\n",
       "      <td>2</td>\n",
       "      <td>Pilot 1</td>\n",
       "      <td>Azorius Control</td>\n",
       "      <td>MTG China Open</td>\n",
       "      <td>Mainboard</td>\n",
       "      <td>0.0</td>\n",
       "      <td>NaN</td>\n",
       "      <td>[]</td>\n",
       "      <td>2023-04-21</td>\n",
       "      <td>{T}: Add {C}.\\n{2}, {T}, Sacrifice Field of Ru...</td>\n",
       "      <td>Land</td>\n",
       "      <td>0.05</td>\n",
       "      <td>0.15</td>\n",
       "      <td>uncommon</td>\n",
       "    </tr>\n",
       "    <tr>\n",
       "      <th>4</th>\n",
       "      <td>Fabled Passage</td>\n",
       "      <td>4</td>\n",
       "      <td>Pilot 1</td>\n",
       "      <td>Azorius Control</td>\n",
       "      <td>MTG China Open</td>\n",
       "      <td>Mainboard</td>\n",
       "      <td>0.0</td>\n",
       "      <td>NaN</td>\n",
       "      <td>[]</td>\n",
       "      <td>2020-07-03</td>\n",
       "      <td>{T}, Sacrifice Fabled Passage: Search your lib...</td>\n",
       "      <td>Land</td>\n",
       "      <td>3.70</td>\n",
       "      <td>4.80</td>\n",
       "      <td>rare</td>\n",
       "    </tr>\n",
       "  </tbody>\n",
       "</table>\n",
       "</div>"
      ],
      "text/plain": [
       "                 Card  Quantity    Pilot        Archetype           Event  \\\n",
       "0   Hallowed Fountain         4  Pilot 1  Azorius Control  MTG China Open   \n",
       "1      Prairie Stream         2  Pilot 1  Azorius Control  MTG China Open   \n",
       "2  Irrigated Farmland         4  Pilot 1  Azorius Control  MTG China Open   \n",
       "3       Field of Ruin         2  Pilot 1  Azorius Control  MTG China Open   \n",
       "4      Fabled Passage         4  Pilot 1  Azorius Control  MTG China Open   \n",
       "\n",
       "  Main/Sideboard  Mana Value Mana Cost Colours Most Recent Printing  \\\n",
       "0      Mainboard         0.0       NaN      []           2019-01-25   \n",
       "1      Mainboard         0.0       NaN      []           2023-04-21   \n",
       "2      Mainboard         0.0       NaN      []           2020-04-17   \n",
       "3      Mainboard         0.0       NaN      []           2023-04-21   \n",
       "4      Mainboard         0.0       NaN      []           2020-07-03   \n",
       "\n",
       "                                           Card Text             Type Line  \\\n",
       "0  ({T}: Add {W} or {U}.)\\nAs Hallowed Fountain e...  Land — Plains Island   \n",
       "1  ({T}: Add {W} or {U}.)\\nPrairie Stream enters ...  Land — Plains Island   \n",
       "2  ({T}: Add {W} or {U}.)\\nIrrigated Farmland ent...  Land — Plains Island   \n",
       "3  {T}: Add {C}.\\n{2}, {T}, Sacrifice Field of Ru...                  Land   \n",
       "4  {T}, Sacrifice Fabled Passage: Search your lib...                  Land   \n",
       "\n",
       "   Price EUR  Price USD    Rarity  \n",
       "0      11.93      11.31      rare  \n",
       "1       0.21       0.16      rare  \n",
       "2       0.76       0.96      rare  \n",
       "3       0.05       0.15  uncommon  \n",
       "4       3.70       4.80      rare  "
      ]
     },
     "execution_count": 97,
     "metadata": {},
     "output_type": "execute_result"
    }
   ],
   "source": [
    "df.head()"
   ]
  },
  {
   "cell_type": "code",
   "execution_count": 98,
   "id": "00164537-5e46-4c31-836f-27cc0899e608",
   "metadata": {},
   "outputs": [],
   "source": [
    "df.drop(columns=[\"Price EUR\"], inplace=True)"
   ]
  },
  {
   "cell_type": "code",
   "execution_count": 99,
   "id": "581f2669-8d12-4295-b93e-3815a01c2d16",
   "metadata": {},
   "outputs": [
    {
     "data": {
      "text/html": [
       "<div>\n",
       "<style scoped>\n",
       "    .dataframe tbody tr th:only-of-type {\n",
       "        vertical-align: middle;\n",
       "    }\n",
       "\n",
       "    .dataframe tbody tr th {\n",
       "        vertical-align: top;\n",
       "    }\n",
       "\n",
       "    .dataframe thead th {\n",
       "        text-align: right;\n",
       "    }\n",
       "</style>\n",
       "<table border=\"1\" class=\"dataframe\">\n",
       "  <thead>\n",
       "    <tr style=\"text-align: right;\">\n",
       "      <th></th>\n",
       "      <th>Card</th>\n",
       "      <th>Quantity</th>\n",
       "      <th>Pilot</th>\n",
       "      <th>Archetype</th>\n",
       "      <th>Event</th>\n",
       "      <th>Main/Sideboard</th>\n",
       "      <th>Mana Value</th>\n",
       "      <th>Mana Cost</th>\n",
       "      <th>Colours</th>\n",
       "      <th>Most Recent Printing</th>\n",
       "      <th>Card Text</th>\n",
       "      <th>Type Line</th>\n",
       "      <th>Price USD</th>\n",
       "      <th>Rarity</th>\n",
       "    </tr>\n",
       "  </thead>\n",
       "  <tbody>\n",
       "    <tr>\n",
       "      <th>0</th>\n",
       "      <td>Hallowed Fountain</td>\n",
       "      <td>4</td>\n",
       "      <td>Pilot 1</td>\n",
       "      <td>Azorius Control</td>\n",
       "      <td>MTG China Open</td>\n",
       "      <td>Mainboard</td>\n",
       "      <td>0.0</td>\n",
       "      <td>NaN</td>\n",
       "      <td>[]</td>\n",
       "      <td>2019-01-25</td>\n",
       "      <td>({T}: Add {W} or {U}.)\\nAs Hallowed Fountain e...</td>\n",
       "      <td>Land — Plains Island</td>\n",
       "      <td>11.31</td>\n",
       "      <td>rare</td>\n",
       "    </tr>\n",
       "    <tr>\n",
       "      <th>1</th>\n",
       "      <td>Prairie Stream</td>\n",
       "      <td>2</td>\n",
       "      <td>Pilot 1</td>\n",
       "      <td>Azorius Control</td>\n",
       "      <td>MTG China Open</td>\n",
       "      <td>Mainboard</td>\n",
       "      <td>0.0</td>\n",
       "      <td>NaN</td>\n",
       "      <td>[]</td>\n",
       "      <td>2023-04-21</td>\n",
       "      <td>({T}: Add {W} or {U}.)\\nPrairie Stream enters ...</td>\n",
       "      <td>Land — Plains Island</td>\n",
       "      <td>0.16</td>\n",
       "      <td>rare</td>\n",
       "    </tr>\n",
       "    <tr>\n",
       "      <th>2</th>\n",
       "      <td>Irrigated Farmland</td>\n",
       "      <td>4</td>\n",
       "      <td>Pilot 1</td>\n",
       "      <td>Azorius Control</td>\n",
       "      <td>MTG China Open</td>\n",
       "      <td>Mainboard</td>\n",
       "      <td>0.0</td>\n",
       "      <td>NaN</td>\n",
       "      <td>[]</td>\n",
       "      <td>2020-04-17</td>\n",
       "      <td>({T}: Add {W} or {U}.)\\nIrrigated Farmland ent...</td>\n",
       "      <td>Land — Plains Island</td>\n",
       "      <td>0.96</td>\n",
       "      <td>rare</td>\n",
       "    </tr>\n",
       "    <tr>\n",
       "      <th>3</th>\n",
       "      <td>Field of Ruin</td>\n",
       "      <td>2</td>\n",
       "      <td>Pilot 1</td>\n",
       "      <td>Azorius Control</td>\n",
       "      <td>MTG China Open</td>\n",
       "      <td>Mainboard</td>\n",
       "      <td>0.0</td>\n",
       "      <td>NaN</td>\n",
       "      <td>[]</td>\n",
       "      <td>2023-04-21</td>\n",
       "      <td>{T}: Add {C}.\\n{2}, {T}, Sacrifice Field of Ru...</td>\n",
       "      <td>Land</td>\n",
       "      <td>0.15</td>\n",
       "      <td>uncommon</td>\n",
       "    </tr>\n",
       "    <tr>\n",
       "      <th>4</th>\n",
       "      <td>Fabled Passage</td>\n",
       "      <td>4</td>\n",
       "      <td>Pilot 1</td>\n",
       "      <td>Azorius Control</td>\n",
       "      <td>MTG China Open</td>\n",
       "      <td>Mainboard</td>\n",
       "      <td>0.0</td>\n",
       "      <td>NaN</td>\n",
       "      <td>[]</td>\n",
       "      <td>2020-07-03</td>\n",
       "      <td>{T}, Sacrifice Fabled Passage: Search your lib...</td>\n",
       "      <td>Land</td>\n",
       "      <td>4.80</td>\n",
       "      <td>rare</td>\n",
       "    </tr>\n",
       "  </tbody>\n",
       "</table>\n",
       "</div>"
      ],
      "text/plain": [
       "                 Card  Quantity    Pilot        Archetype           Event  \\\n",
       "0   Hallowed Fountain         4  Pilot 1  Azorius Control  MTG China Open   \n",
       "1      Prairie Stream         2  Pilot 1  Azorius Control  MTG China Open   \n",
       "2  Irrigated Farmland         4  Pilot 1  Azorius Control  MTG China Open   \n",
       "3       Field of Ruin         2  Pilot 1  Azorius Control  MTG China Open   \n",
       "4      Fabled Passage         4  Pilot 1  Azorius Control  MTG China Open   \n",
       "\n",
       "  Main/Sideboard  Mana Value Mana Cost Colours Most Recent Printing  \\\n",
       "0      Mainboard         0.0       NaN      []           2019-01-25   \n",
       "1      Mainboard         0.0       NaN      []           2023-04-21   \n",
       "2      Mainboard         0.0       NaN      []           2020-04-17   \n",
       "3      Mainboard         0.0       NaN      []           2023-04-21   \n",
       "4      Mainboard         0.0       NaN      []           2020-07-03   \n",
       "\n",
       "                                           Card Text             Type Line  \\\n",
       "0  ({T}: Add {W} or {U}.)\\nAs Hallowed Fountain e...  Land — Plains Island   \n",
       "1  ({T}: Add {W} or {U}.)\\nPrairie Stream enters ...  Land — Plains Island   \n",
       "2  ({T}: Add {W} or {U}.)\\nIrrigated Farmland ent...  Land — Plains Island   \n",
       "3  {T}: Add {C}.\\n{2}, {T}, Sacrifice Field of Ru...                  Land   \n",
       "4  {T}, Sacrifice Fabled Passage: Search your lib...                  Land   \n",
       "\n",
       "   Price USD    Rarity  \n",
       "0      11.31      rare  \n",
       "1       0.16      rare  \n",
       "2       0.96      rare  \n",
       "3       0.15  uncommon  \n",
       "4       4.80      rare  "
      ]
     },
     "execution_count": 99,
     "metadata": {},
     "output_type": "execute_result"
    }
   ],
   "source": [
    "df.head()"
   ]
  },
  {
   "cell_type": "code",
   "execution_count": 143,
   "id": "23146dd3-1932-4be0-a4bd-14406f583cc2",
   "metadata": {},
   "outputs": [
    {
     "data": {
      "text/html": [
       "<div>\n",
       "<style scoped>\n",
       "    .dataframe tbody tr th:only-of-type {\n",
       "        vertical-align: middle;\n",
       "    }\n",
       "\n",
       "    .dataframe tbody tr th {\n",
       "        vertical-align: top;\n",
       "    }\n",
       "\n",
       "    .dataframe thead th {\n",
       "        text-align: right;\n",
       "    }\n",
       "</style>\n",
       "<table border=\"1\" class=\"dataframe\">\n",
       "  <thead>\n",
       "    <tr style=\"text-align: right;\">\n",
       "      <th></th>\n",
       "      <th>Card</th>\n",
       "      <th>Quantity</th>\n",
       "      <th>Pilot</th>\n",
       "      <th>Archetype</th>\n",
       "      <th>Event</th>\n",
       "      <th>Main/Sideboard</th>\n",
       "      <th>Mana Value</th>\n",
       "      <th>Mana Cost</th>\n",
       "      <th>Colours</th>\n",
       "      <th>Most Recent Printing</th>\n",
       "      <th>Card Text</th>\n",
       "      <th>Type Line</th>\n",
       "      <th>Price USD</th>\n",
       "      <th>Rarity</th>\n",
       "    </tr>\n",
       "  </thead>\n",
       "  <tbody>\n",
       "    <tr>\n",
       "      <th>0</th>\n",
       "      <td>Hallowed Fountain</td>\n",
       "      <td>4</td>\n",
       "      <td>Pilot 1</td>\n",
       "      <td>Azorius Control</td>\n",
       "      <td>MTG China Open</td>\n",
       "      <td>Mainboard</td>\n",
       "      <td>0.0</td>\n",
       "      <td>['L']</td>\n",
       "      <td>['L']</td>\n",
       "      <td>2019-01-25</td>\n",
       "      <td>({T}: Add {W} or {U}.)\\nAs Hallowed Fountain e...</td>\n",
       "      <td>Land — Plains Island</td>\n",
       "      <td>11.31</td>\n",
       "      <td>rare</td>\n",
       "    </tr>\n",
       "    <tr>\n",
       "      <th>1</th>\n",
       "      <td>Prairie Stream</td>\n",
       "      <td>2</td>\n",
       "      <td>Pilot 1</td>\n",
       "      <td>Azorius Control</td>\n",
       "      <td>MTG China Open</td>\n",
       "      <td>Mainboard</td>\n",
       "      <td>0.0</td>\n",
       "      <td>['L']</td>\n",
       "      <td>['L']</td>\n",
       "      <td>2023-04-21</td>\n",
       "      <td>({T}: Add {W} or {U}.)\\nPrairie Stream enters ...</td>\n",
       "      <td>Land — Plains Island</td>\n",
       "      <td>0.16</td>\n",
       "      <td>rare</td>\n",
       "    </tr>\n",
       "    <tr>\n",
       "      <th>2</th>\n",
       "      <td>Irrigated Farmland</td>\n",
       "      <td>4</td>\n",
       "      <td>Pilot 1</td>\n",
       "      <td>Azorius Control</td>\n",
       "      <td>MTG China Open</td>\n",
       "      <td>Mainboard</td>\n",
       "      <td>0.0</td>\n",
       "      <td>['L']</td>\n",
       "      <td>['L']</td>\n",
       "      <td>2020-04-17</td>\n",
       "      <td>({T}: Add {W} or {U}.)\\nIrrigated Farmland ent...</td>\n",
       "      <td>Land — Plains Island</td>\n",
       "      <td>0.96</td>\n",
       "      <td>rare</td>\n",
       "    </tr>\n",
       "    <tr>\n",
       "      <th>3</th>\n",
       "      <td>Field of Ruin</td>\n",
       "      <td>2</td>\n",
       "      <td>Pilot 1</td>\n",
       "      <td>Azorius Control</td>\n",
       "      <td>MTG China Open</td>\n",
       "      <td>Mainboard</td>\n",
       "      <td>0.0</td>\n",
       "      <td>['L']</td>\n",
       "      <td>['L']</td>\n",
       "      <td>2023-04-21</td>\n",
       "      <td>{T}: Add {C}.\\n{2}, {T}, Sacrifice Field of Ru...</td>\n",
       "      <td>Land</td>\n",
       "      <td>0.15</td>\n",
       "      <td>uncommon</td>\n",
       "    </tr>\n",
       "    <tr>\n",
       "      <th>4</th>\n",
       "      <td>Fabled Passage</td>\n",
       "      <td>4</td>\n",
       "      <td>Pilot 1</td>\n",
       "      <td>Azorius Control</td>\n",
       "      <td>MTG China Open</td>\n",
       "      <td>Mainboard</td>\n",
       "      <td>0.0</td>\n",
       "      <td>['L']</td>\n",
       "      <td>['L']</td>\n",
       "      <td>2020-07-03</td>\n",
       "      <td>{T}, Sacrifice Fabled Passage: Search your lib...</td>\n",
       "      <td>Land</td>\n",
       "      <td>4.80</td>\n",
       "      <td>rare</td>\n",
       "    </tr>\n",
       "  </tbody>\n",
       "</table>\n",
       "</div>"
      ],
      "text/plain": [
       "                 Card  Quantity    Pilot        Archetype           Event  \\\n",
       "0   Hallowed Fountain         4  Pilot 1  Azorius Control  MTG China Open   \n",
       "1      Prairie Stream         2  Pilot 1  Azorius Control  MTG China Open   \n",
       "2  Irrigated Farmland         4  Pilot 1  Azorius Control  MTG China Open   \n",
       "3       Field of Ruin         2  Pilot 1  Azorius Control  MTG China Open   \n",
       "4      Fabled Passage         4  Pilot 1  Azorius Control  MTG China Open   \n",
       "\n",
       "  Main/Sideboard  Mana Value Mana Cost Colours Most Recent Printing  \\\n",
       "0      Mainboard         0.0     ['L']   ['L']           2019-01-25   \n",
       "1      Mainboard         0.0     ['L']   ['L']           2023-04-21   \n",
       "2      Mainboard         0.0     ['L']   ['L']           2020-04-17   \n",
       "3      Mainboard         0.0     ['L']   ['L']           2023-04-21   \n",
       "4      Mainboard         0.0     ['L']   ['L']           2020-07-03   \n",
       "\n",
       "                                           Card Text             Type Line  \\\n",
       "0  ({T}: Add {W} or {U}.)\\nAs Hallowed Fountain e...  Land — Plains Island   \n",
       "1  ({T}: Add {W} or {U}.)\\nPrairie Stream enters ...  Land — Plains Island   \n",
       "2  ({T}: Add {W} or {U}.)\\nIrrigated Farmland ent...  Land — Plains Island   \n",
       "3  {T}: Add {C}.\\n{2}, {T}, Sacrifice Field of Ru...                  Land   \n",
       "4  {T}, Sacrifice Fabled Passage: Search your lib...                  Land   \n",
       "\n",
       "   Price USD    Rarity  \n",
       "0      11.31      rare  \n",
       "1       0.16      rare  \n",
       "2       0.96      rare  \n",
       "3       0.15  uncommon  \n",
       "4       4.80      rare  "
      ]
     },
     "execution_count": 143,
     "metadata": {},
     "output_type": "execute_result"
    }
   ],
   "source": [
    "df.loc[df[\"Type Line\"].str.contains(\"Land\"), \"Colours\"] = \"['L']\"\n",
    "\n",
    "df.loc[df[\"Mana Cost\"].isna(), \"Mana Cost\"] = \"['L']\"\n",
    "\n",
    "df.head()"
   ]
  },
  {
   "cell_type": "code",
   "execution_count": 148,
   "id": "be6bb25f-57e7-418f-b0a0-c25bfc88bb62",
   "metadata": {},
   "outputs": [],
   "source": [
    "price_drop_df = df.dropna(subset=['Price USD'])"
   ]
  },
  {
   "cell_type": "code",
   "execution_count": 149,
   "id": "dd5cc5e7-208d-44dc-b694-2674d81d0fe6",
   "metadata": {},
   "outputs": [
    {
     "data": {
      "text/html": [
       "<div>\n",
       "<style scoped>\n",
       "    .dataframe tbody tr th:only-of-type {\n",
       "        vertical-align: middle;\n",
       "    }\n",
       "\n",
       "    .dataframe tbody tr th {\n",
       "        vertical-align: top;\n",
       "    }\n",
       "\n",
       "    .dataframe thead th {\n",
       "        text-align: right;\n",
       "    }\n",
       "</style>\n",
       "<table border=\"1\" class=\"dataframe\">\n",
       "  <thead>\n",
       "    <tr style=\"text-align: right;\">\n",
       "      <th></th>\n",
       "      <th>Card</th>\n",
       "      <th>Quantity</th>\n",
       "      <th>Pilot</th>\n",
       "      <th>Archetype</th>\n",
       "      <th>Event</th>\n",
       "      <th>Main/Sideboard</th>\n",
       "      <th>Mana Value</th>\n",
       "      <th>Mana Cost</th>\n",
       "      <th>Colours</th>\n",
       "      <th>Most Recent Printing</th>\n",
       "      <th>Card Text</th>\n",
       "      <th>Type Line</th>\n",
       "      <th>Price USD</th>\n",
       "      <th>Rarity</th>\n",
       "    </tr>\n",
       "  </thead>\n",
       "  <tbody>\n",
       "    <tr>\n",
       "      <th>0</th>\n",
       "      <td>Hallowed Fountain</td>\n",
       "      <td>4</td>\n",
       "      <td>Pilot 1</td>\n",
       "      <td>Azorius Control</td>\n",
       "      <td>MTG China Open</td>\n",
       "      <td>Mainboard</td>\n",
       "      <td>0.0</td>\n",
       "      <td>['L']</td>\n",
       "      <td>['L']</td>\n",
       "      <td>2019-01-25</td>\n",
       "      <td>({T}: Add {W} or {U}.)\\nAs Hallowed Fountain e...</td>\n",
       "      <td>Land — Plains Island</td>\n",
       "      <td>11.31</td>\n",
       "      <td>rare</td>\n",
       "    </tr>\n",
       "    <tr>\n",
       "      <th>1</th>\n",
       "      <td>Prairie Stream</td>\n",
       "      <td>2</td>\n",
       "      <td>Pilot 1</td>\n",
       "      <td>Azorius Control</td>\n",
       "      <td>MTG China Open</td>\n",
       "      <td>Mainboard</td>\n",
       "      <td>0.0</td>\n",
       "      <td>['L']</td>\n",
       "      <td>['L']</td>\n",
       "      <td>2023-04-21</td>\n",
       "      <td>({T}: Add {W} or {U}.)\\nPrairie Stream enters ...</td>\n",
       "      <td>Land — Plains Island</td>\n",
       "      <td>0.16</td>\n",
       "      <td>rare</td>\n",
       "    </tr>\n",
       "    <tr>\n",
       "      <th>2</th>\n",
       "      <td>Irrigated Farmland</td>\n",
       "      <td>4</td>\n",
       "      <td>Pilot 1</td>\n",
       "      <td>Azorius Control</td>\n",
       "      <td>MTG China Open</td>\n",
       "      <td>Mainboard</td>\n",
       "      <td>0.0</td>\n",
       "      <td>['L']</td>\n",
       "      <td>['L']</td>\n",
       "      <td>2020-04-17</td>\n",
       "      <td>({T}: Add {W} or {U}.)\\nIrrigated Farmland ent...</td>\n",
       "      <td>Land — Plains Island</td>\n",
       "      <td>0.96</td>\n",
       "      <td>rare</td>\n",
       "    </tr>\n",
       "    <tr>\n",
       "      <th>3</th>\n",
       "      <td>Field of Ruin</td>\n",
       "      <td>2</td>\n",
       "      <td>Pilot 1</td>\n",
       "      <td>Azorius Control</td>\n",
       "      <td>MTG China Open</td>\n",
       "      <td>Mainboard</td>\n",
       "      <td>0.0</td>\n",
       "      <td>['L']</td>\n",
       "      <td>['L']</td>\n",
       "      <td>2023-04-21</td>\n",
       "      <td>{T}: Add {C}.\\n{2}, {T}, Sacrifice Field of Ru...</td>\n",
       "      <td>Land</td>\n",
       "      <td>0.15</td>\n",
       "      <td>uncommon</td>\n",
       "    </tr>\n",
       "    <tr>\n",
       "      <th>4</th>\n",
       "      <td>Fabled Passage</td>\n",
       "      <td>4</td>\n",
       "      <td>Pilot 1</td>\n",
       "      <td>Azorius Control</td>\n",
       "      <td>MTG China Open</td>\n",
       "      <td>Mainboard</td>\n",
       "      <td>0.0</td>\n",
       "      <td>['L']</td>\n",
       "      <td>['L']</td>\n",
       "      <td>2020-07-03</td>\n",
       "      <td>{T}, Sacrifice Fabled Passage: Search your lib...</td>\n",
       "      <td>Land</td>\n",
       "      <td>4.80</td>\n",
       "      <td>rare</td>\n",
       "    </tr>\n",
       "    <tr>\n",
       "      <th>...</th>\n",
       "      <td>...</td>\n",
       "      <td>...</td>\n",
       "      <td>...</td>\n",
       "      <td>...</td>\n",
       "      <td>...</td>\n",
       "      <td>...</td>\n",
       "      <td>...</td>\n",
       "      <td>...</td>\n",
       "      <td>...</td>\n",
       "      <td>...</td>\n",
       "      <td>...</td>\n",
       "      <td>...</td>\n",
       "      <td>...</td>\n",
       "      <td>...</td>\n",
       "    </tr>\n",
       "    <tr>\n",
       "      <th>2301</th>\n",
       "      <td>The Chain Veil</td>\n",
       "      <td>1</td>\n",
       "      <td>Pilot 8</td>\n",
       "      <td>Mono-Green Devotion</td>\n",
       "      <td>MTG SEA Championship</td>\n",
       "      <td>Sideboard</td>\n",
       "      <td>4.0</td>\n",
       "      <td>{4}</td>\n",
       "      <td>[]</td>\n",
       "      <td>2014-07-18</td>\n",
       "      <td>At the beginning of your end step, if you didn...</td>\n",
       "      <td>Legendary Artifact</td>\n",
       "      <td>26.69</td>\n",
       "      <td>mythic</td>\n",
       "    </tr>\n",
       "    <tr>\n",
       "      <th>2302</th>\n",
       "      <td>Tormod's Crypt</td>\n",
       "      <td>1</td>\n",
       "      <td>Pilot 8</td>\n",
       "      <td>Mono-Green Devotion</td>\n",
       "      <td>MTG SEA Championship</td>\n",
       "      <td>Sideboard</td>\n",
       "      <td>0.0</td>\n",
       "      <td>['L']</td>\n",
       "      <td>[]</td>\n",
       "      <td>2020-07-03</td>\n",
       "      <td>{T}, Sacrifice Tormod's Crypt: Exile target pl...</td>\n",
       "      <td>Artifact</td>\n",
       "      <td>0.24</td>\n",
       "      <td>uncommon</td>\n",
       "    </tr>\n",
       "    <tr>\n",
       "      <th>2303</th>\n",
       "      <td>Voracious Hydra</td>\n",
       "      <td>2</td>\n",
       "      <td>Pilot 8</td>\n",
       "      <td>Mono-Green Devotion</td>\n",
       "      <td>MTG SEA Championship</td>\n",
       "      <td>Sideboard</td>\n",
       "      <td>2.0</td>\n",
       "      <td>{X}{G}{G}</td>\n",
       "      <td>['G']</td>\n",
       "      <td>2019-07-12</td>\n",
       "      <td>Trample\\nVoracious Hydra enters the battlefiel...</td>\n",
       "      <td>Creature — Hydra</td>\n",
       "      <td>4.21</td>\n",
       "      <td>rare</td>\n",
       "    </tr>\n",
       "    <tr>\n",
       "      <th>2304</th>\n",
       "      <td>Treasure Vault</td>\n",
       "      <td>1</td>\n",
       "      <td>Pilot 8</td>\n",
       "      <td>Mono-Green Devotion</td>\n",
       "      <td>MTG SEA Championship</td>\n",
       "      <td>Sideboard</td>\n",
       "      <td>0.0</td>\n",
       "      <td>['L']</td>\n",
       "      <td>['L']</td>\n",
       "      <td>2021-07-23</td>\n",
       "      <td>{T}: Add {C}.\\n{X}{X}, {T}, Sacrifice Treasure...</td>\n",
       "      <td>Artifact Land</td>\n",
       "      <td>4.78</td>\n",
       "      <td>rare</td>\n",
       "    </tr>\n",
       "    <tr>\n",
       "      <th>2305</th>\n",
       "      <td>Karn's Sylex</td>\n",
       "      <td>1</td>\n",
       "      <td>Pilot 8</td>\n",
       "      <td>Mono-Green Devotion</td>\n",
       "      <td>MTG SEA Championship</td>\n",
       "      <td>Sideboard</td>\n",
       "      <td>3.0</td>\n",
       "      <td>{3}</td>\n",
       "      <td>[]</td>\n",
       "      <td>2022-09-09</td>\n",
       "      <td>Karn's Sylex enters the battlefield tapped.\\nP...</td>\n",
       "      <td>Legendary Artifact</td>\n",
       "      <td>1.46</td>\n",
       "      <td>mythic</td>\n",
       "    </tr>\n",
       "  </tbody>\n",
       "</table>\n",
       "<p>2231 rows × 14 columns</p>\n",
       "</div>"
      ],
      "text/plain": [
       "                    Card  Quantity    Pilot            Archetype  \\\n",
       "0      Hallowed Fountain         4  Pilot 1      Azorius Control   \n",
       "1         Prairie Stream         2  Pilot 1      Azorius Control   \n",
       "2     Irrigated Farmland         4  Pilot 1      Azorius Control   \n",
       "3          Field of Ruin         2  Pilot 1      Azorius Control   \n",
       "4         Fabled Passage         4  Pilot 1      Azorius Control   \n",
       "...                  ...       ...      ...                  ...   \n",
       "2301      The Chain Veil         1  Pilot 8  Mono-Green Devotion   \n",
       "2302      Tormod's Crypt         1  Pilot 8  Mono-Green Devotion   \n",
       "2303     Voracious Hydra         2  Pilot 8  Mono-Green Devotion   \n",
       "2304      Treasure Vault         1  Pilot 8  Mono-Green Devotion   \n",
       "2305        Karn's Sylex         1  Pilot 8  Mono-Green Devotion   \n",
       "\n",
       "                     Event Main/Sideboard  Mana Value  Mana Cost Colours  \\\n",
       "0           MTG China Open      Mainboard         0.0      ['L']   ['L']   \n",
       "1           MTG China Open      Mainboard         0.0      ['L']   ['L']   \n",
       "2           MTG China Open      Mainboard         0.0      ['L']   ['L']   \n",
       "3           MTG China Open      Mainboard         0.0      ['L']   ['L']   \n",
       "4           MTG China Open      Mainboard         0.0      ['L']   ['L']   \n",
       "...                    ...            ...         ...        ...     ...   \n",
       "2301  MTG SEA Championship      Sideboard         4.0        {4}      []   \n",
       "2302  MTG SEA Championship      Sideboard         0.0      ['L']      []   \n",
       "2303  MTG SEA Championship      Sideboard         2.0  {X}{G}{G}   ['G']   \n",
       "2304  MTG SEA Championship      Sideboard         0.0      ['L']   ['L']   \n",
       "2305  MTG SEA Championship      Sideboard         3.0        {3}      []   \n",
       "\n",
       "     Most Recent Printing                                          Card Text  \\\n",
       "0              2019-01-25  ({T}: Add {W} or {U}.)\\nAs Hallowed Fountain e...   \n",
       "1              2023-04-21  ({T}: Add {W} or {U}.)\\nPrairie Stream enters ...   \n",
       "2              2020-04-17  ({T}: Add {W} or {U}.)\\nIrrigated Farmland ent...   \n",
       "3              2023-04-21  {T}: Add {C}.\\n{2}, {T}, Sacrifice Field of Ru...   \n",
       "4              2020-07-03  {T}, Sacrifice Fabled Passage: Search your lib...   \n",
       "...                   ...                                                ...   \n",
       "2301           2014-07-18  At the beginning of your end step, if you didn...   \n",
       "2302           2020-07-03  {T}, Sacrifice Tormod's Crypt: Exile target pl...   \n",
       "2303           2019-07-12  Trample\\nVoracious Hydra enters the battlefiel...   \n",
       "2304           2021-07-23  {T}: Add {C}.\\n{X}{X}, {T}, Sacrifice Treasure...   \n",
       "2305           2022-09-09  Karn's Sylex enters the battlefield tapped.\\nP...   \n",
       "\n",
       "                 Type Line  Price USD    Rarity  \n",
       "0     Land — Plains Island      11.31      rare  \n",
       "1     Land — Plains Island       0.16      rare  \n",
       "2     Land — Plains Island       0.96      rare  \n",
       "3                     Land       0.15  uncommon  \n",
       "4                     Land       4.80      rare  \n",
       "...                    ...        ...       ...  \n",
       "2301    Legendary Artifact      26.69    mythic  \n",
       "2302              Artifact       0.24  uncommon  \n",
       "2303      Creature — Hydra       4.21      rare  \n",
       "2304         Artifact Land       4.78      rare  \n",
       "2305    Legendary Artifact       1.46    mythic  \n",
       "\n",
       "[2231 rows x 14 columns]"
      ]
     },
     "execution_count": 149,
     "metadata": {},
     "output_type": "execute_result"
    }
   ],
   "source": [
    "price_drop_df #the dataframe for the linregress"
   ]
  },
  {
   "cell_type": "code",
   "execution_count": 150,
   "id": "56390605-dba1-42ad-8068-5645ee02a7ae",
   "metadata": {},
   "outputs": [
    {
     "name": "stdout",
     "output_type": "stream",
     "text": [
      "Colours\n",
      "['L']                   620\n",
      "['B']                   273\n",
      "[]                      272\n",
      "['U']                   268\n",
      "['W']                   266\n",
      "['G']                   179\n",
      "['R']                   171\n",
      "['B', 'R']               76\n",
      "['U', 'W']               61\n",
      "['G', 'R']               29\n",
      "['G', 'U']               24\n",
      "['B', 'U']               14\n",
      "['B', 'G']               10\n",
      "['G', 'W']                8\n",
      "['R', 'U']                7\n",
      "['R', 'W']                5\n",
      "['B', 'W']                5\n",
      "['G', 'R', 'W']           4\n",
      "['B', 'G', 'U']           4\n",
      "['B', 'G', 'U', 'W']      4\n",
      "['G', 'R', 'U', 'W']      3\n",
      "['B', 'R', 'U']           1\n",
      "['R', 'U', 'W']           1\n",
      "['G', 'R', 'U']           1\n",
      "Name: count, dtype: int64\n"
     ]
    },
    {
     "ename": "TypeError",
     "evalue": "'int' object is not callable",
     "output_type": "error",
     "traceback": [
      "\u001b[1;31m---------------------------------------------------------------------------\u001b[0m",
      "\u001b[1;31mTypeError\u001b[0m                                 Traceback (most recent call last)",
      "Cell \u001b[1;32mIn[150], line 4\u001b[0m\n\u001b[0;32m      2\u001b[0m colours \u001b[38;5;241m=\u001b[39m df[\u001b[38;5;124m'\u001b[39m\u001b[38;5;124mColours\u001b[39m\u001b[38;5;124m'\u001b[39m]\u001b[38;5;241m.\u001b[39mvalue_counts()\n\u001b[0;32m      3\u001b[0m \u001b[38;5;28mprint\u001b[39m(colours)\n\u001b[1;32m----> 4\u001b[0m \u001b[38;5;28mprint\u001b[39m(\u001b[38;5;28;43mtype\u001b[39;49m\u001b[43m(\u001b[49m\u001b[43mcolours\u001b[49m\u001b[43m)\u001b[49m)\n",
      "\u001b[1;31mTypeError\u001b[0m: 'int' object is not callable"
     ]
    }
   ],
   "source": [
    "# count number of colors/color combinations and the number of each occurrance\n",
    "colours = df['Colours'].value_counts()\n",
    "print(colours)\n",
    "print(type(colours))\n",
    "# 23 variations as series. I don't see any null values or bad data."
   ]
  },
  {
   "cell_type": "code",
   "execution_count": 151,
   "id": "0c31a372-dafd-4488-a14b-015783d1b1b4",
   "metadata": {},
   "outputs": [
    {
     "name": "stdout",
     "output_type": "stream",
     "text": [
      "Colours\n",
      "['L']                   620\n",
      "['B']                   273\n",
      "[]                      272\n",
      "['U']                   268\n",
      "['W']                   266\n",
      "['G']                   179\n",
      "['R']                   171\n",
      "['B', 'R']               76\n",
      "['U', 'W']               61\n",
      "['G', 'R']               29\n",
      "['G', 'U']               24\n",
      "['B', 'U']               14\n",
      "['B', 'G']               10\n",
      "['G', 'W']                8\n",
      "['R', 'U']                7\n",
      "['R', 'W']                5\n",
      "['B', 'W']                5\n",
      "['G', 'R', 'W']           4\n",
      "['B', 'G', 'U']           4\n",
      "['B', 'G', 'U', 'W']      4\n",
      "['G', 'R', 'U', 'W']      3\n",
      "['B', 'R', 'U']           1\n",
      "['R', 'U', 'W']           1\n",
      "['G', 'R', 'U']           1\n",
      "Name: count, dtype: int64\n"
     ]
    }
   ],
   "source": [
    "# Update 'Colours' column based on the condition 'Type Line' contains 'Land'\n",
    "# This will differentiate between Lands and Artifacts, which are both colorless\n",
    "df.loc[df[\"Type Line\"].str.contains(\"Land\"), \"Colours\"] = \"['L']\"\n",
    "print(colours)"
   ]
  },
  {
   "cell_type": "code",
   "execution_count": 140,
   "id": "271d3f98-ef10-4660-8eb4-2556141c9f6e",
   "metadata": {},
   "outputs": [
    {
     "name": "stdout",
     "output_type": "stream",
     "text": [
      "<class 'pandas.core.frame.DataFrame'>\n",
      "RangeIndex: 2306 entries, 0 to 2305\n",
      "Data columns (total 14 columns):\n",
      " #   Column                Non-Null Count  Dtype  \n",
      "---  ------                --------------  -----  \n",
      " 0   Card                  2306 non-null   object \n",
      " 1   Quantity              2306 non-null   int64  \n",
      " 2   Pilot                 2306 non-null   object \n",
      " 3   Archetype             2306 non-null   object \n",
      " 4   Event                 2306 non-null   object \n",
      " 5   Main/Sideboard        2306 non-null   object \n",
      " 6   Mana Value            2306 non-null   float64\n",
      " 7   Mana Cost             1679 non-null   object \n",
      " 8   Colours               2306 non-null   object \n",
      " 9   Most Recent Printing  2306 non-null   object \n",
      " 10  Card Text             2096 non-null   object \n",
      " 11  Type Line             2306 non-null   object \n",
      " 12  Price USD             2231 non-null   float64\n",
      " 13  Rarity                2306 non-null   object \n",
      "dtypes: float64(2), int64(1), object(11)\n",
      "memory usage: 252.3+ KB\n"
     ]
    }
   ],
   "source": [
    "df.info()"
   ]
  },
  {
   "cell_type": "code",
   "execution_count": 102,
   "id": "ce3f65b0-f633-4471-ac35-958ea5fc5199",
   "metadata": {},
   "outputs": [],
   "source": [
    "card_count = len(df[\"Card\"].unique())"
   ]
  },
  {
   "cell_type": "code",
   "execution_count": 103,
   "id": "c938c20e-4750-4c11-bc55-6052e4c6bb95",
   "metadata": {},
   "outputs": [
    {
     "data": {
      "text/plain": [
       "460"
      ]
     },
     "execution_count": 103,
     "metadata": {},
     "output_type": "execute_result"
    }
   ],
   "source": [
    "card_count"
   ]
  },
  {
   "cell_type": "code",
   "execution_count": 104,
   "id": "d8689080-5865-4d08-89e1-1b3967dbdc60",
   "metadata": {},
   "outputs": [],
   "source": [
    "cards = df['Card'].unique()\n",
    "cards_list = cards.tolist()"
   ]
  },
  {
   "cell_type": "code",
   "execution_count": 105,
   "id": "00877a80-8df9-4660-bdc5-f219da2980c2",
   "metadata": {},
   "outputs": [
    {
     "data": {
      "text/plain": [
       "array(['Hallowed Fountain', 'Prairie Stream', 'Irrigated Farmland',\n",
       "       'Field of Ruin', 'Fabled Passage', 'Castle Ardenvale',\n",
       "       'Castle Vantress', 'Otawara, Soaring City', 'Hall of Storm Giants',\n",
       "       'Lay Down Arms', 'Farewell', 'Rewind',\n",
       "       'March of Otherworldly Light', 'Mystical Dispute',\n",
       "       'Hallowed Moonlight', 'Absorb', 'Censor', \"Dovin's Veto\",\n",
       "       'The Celestus', 'Shark Typhoon', 'Make Disappear',\n",
       "       'Teferi, Hero of Dominaria', 'Narset, Parter of Veils',\n",
       "       'The Wandering Emperor', 'Change the Equation', 'Dig Through Time',\n",
       "       'Island', 'Plains', 'Disdainful Stroke', 'Temporary Lockdown',\n",
       "       'Aether Gust', 'Dream Trawler', 'Commit // Memory',\n",
       "       'Unlicensed Hearse', 'Zirda, the Dawnwaker', 'Arboreal Grazer',\n",
       "       'Boseiju, Who Endures', 'Lair of the Hydra',\n",
       "       'Lier, Disciple of the Drowned', 'Hidden Strings',\n",
       "       'Behold the Beyond', 'Breeding Pool', 'Dark Petition',\n",
       "       'Bala Ged Recovery', 'Omniscience', 'Impulse',\n",
       "       \"Mastermind's Acquisition\", 'Emergent Ultimatum', 'Lotus Field',\n",
       "       'Pore Over the Pages', \"Thespian's Stage\",\n",
       "       'Shimmer of Possibility', 'Sylvan Scrying', 'Temple of Mystery',\n",
       "       'Vizier of Tumbling Sands', 'Botanical Sanctum', 'Pithing Needle',\n",
       "       \"Narset's Reversal\", 'Languish', 'Zacama, Primal Calamity',\n",
       "       'Supreme Verdict', \"Brotherhood's End\", 'Voyaging Satyr',\n",
       "       'Dragonlord Dromoka', 'Behold the Multiverse', 'Tear Asunder',\n",
       "       'Approach of the Second Sun', \"Atarka's Command\", 'Audacity',\n",
       "       'Den of the Bugbear', 'Copperline Gorge', 'Bonecrusher Giant',\n",
       "       'Cragcrown Pathway', 'Kari Zev, Skyship Raider',\n",
       "       'Karplusan Forest', 'Gallia of the Endless Dance',\n",
       "       'Ghor-Clan Rampager', 'Phoenix Chick', 'Ramunap Ruins',\n",
       "       'Monastery Swiftspear', 'Kumano Faces Kakkazan',\n",
       "       'Lightning Strike', 'Sokenzan, Crucible of Defiance',\n",
       "       'Reckless Bushwhacker', 'Burning-Tree Emissary', 'Stomping Ground',\n",
       "       'Play with Fire', 'Mountain', 'Chandra, Torch of Defiance',\n",
       "       'Roast', 'End the Festivities', 'Experimental Frenzy',\n",
       "       'Cindervines', \"Kari Zev's Expertise\", 'Rending Volley',\n",
       "       'Destructive Revelry', ' Forest', 'Nykthos, Shrine to Nyx',\n",
       "       'Cavalier of Thorns', 'Kiora, Behemoth Beckoner',\n",
       "       'Karn, the Great Creator', 'Wolfwillow Haven', 'Oath of Nissa',\n",
       "       'Polukranos Reborn', 'Elvish Mystic', 'Old-Growth Troll',\n",
       "       'Llanowar Elves', 'Storm the Festival', 'Nicol Bolas, Dragon-God',\n",
       "       'Pestilent Cauldron', 'Damping Sphere', 'Haywire Mite',\n",
       "       'Darksteel Citadel', 'The Chain Veil', \"Tormod's Crypt\",\n",
       "       'Cityscape Leveler', 'Transmogrifying Wand',\n",
       "       'Woodcaller Automaton', 'The Mightstone and Weakstone',\n",
       "       'The Stone Brain', 'The Filigree Sylex', \"Esika's Chariot\",\n",
       "       'Skysovereign, Consul Flagship', \"Chandra, Hope's Beacon\",\n",
       "       'Hope Tender', 'Path of Peril', 'Sunfall', 'Ritual of Soot',\n",
       "       'Fateful Absence', 'Memory Deluge', 'Eiganjo, Seat of the Empire',\n",
       "       'Deserted Beach', 'Saw It Coming', 'Glacial Fortress',\n",
       "       'Divine Smite', 'Summary Dismissal', 'Lyra Dawnbringer',\n",
       "       'Hullbreaker Horror', 'Chrome Host Seedshark', 'Baneslayer Angel',\n",
       "       'Starnheim Unleashed', 'Rest in Peace', 'Bloodtithe Harvester',\n",
       "       'Castle Locthwain', 'Blackcleave Cliffs', 'Duress',\n",
       "       'Liliana of the Veil', 'Fatal Push', 'Sheoldred, the Apocalypse',\n",
       "       'Thoughtseize', 'Power Word Kill', 'Blood Crypt', 'Heartless Act',\n",
       "       'Haunted Ridge', 'Reckoner Bankbuster', 'Swamp',\n",
       "       \"Kroxa, Titan of Death's Hunger\", 'Dreadbore',\n",
       "       'Blightstep Pathway', 'Hive of the Eye Tyrant',\n",
       "       'Fable of the Mirror-Breaker', 'Takenuma, Abandoned Mire',\n",
       "       'Graveyard Trespasser', 'Noxious Grasp', 'Extinction Event',\n",
       "       'Abrade', \"Kolaghan's Command\", 'Hidetsugu Consumes All',\n",
       "       'Clearwater Pathway', 'Cling to Dust', 'Brazen Borrower',\n",
       "       'Go for the Throat', 'Nighthawk Scavenger', 'Darkslick Shores',\n",
       "       'Faerie Mastermind', \"Sheoldred's Edict\", \"Agadeem's Awakening\",\n",
       "       'Drown in the Loch', 'See Double', \"Thieves' Guild Enforcer\",\n",
       "       'Kaito Shizuki', 'Spell Pierce', 'Underground River',\n",
       "       'Urborg, Tomb of Yawgmoth', 'Soaring Thought-Thief',\n",
       "       'Into the Story', 'Watery Grave', 'Negate', 'Ray of Enfeeblement',\n",
       "       'Hostage Taker', 'Jwari Disruption', 'Hengegate Pathway',\n",
       "       'Omen of the Sea', \"Elspeth, Sun's Champion\", 'Yorion, Sky Nomad',\n",
       "       \"God-Pharaoh's Statue\", 'Necromentia', 'Go Blank',\n",
       "       'Lithomantic Barrage', 'The Akroan War', 'Obliterating Bolt',\n",
       "       'Reckless Stormseeker', 'Migloz, Maze Crusher',\n",
       "       'Invasion of Ixalan', 'Voldaren Thrillseeker', 'Mutavault',\n",
       "       'Lovestruck Beast', 'Forest', 'Embercleave', 'Fry',\n",
       "       'Outland Liberator', 'Jegantha, the Wellspring',\n",
       "       'Retraction Helix', \"Jace, Vryn's Prodigy  a\", 'Bitter Reunion',\n",
       "       'Rona, Herald of Invasion', 'Inspiring Vantage', 'Mana Confluence',\n",
       "       'Spirebluff Canal', 'Sacred Foundry', 'Saheeli, Sublime Artificer',\n",
       "       'Emry, Lurker of the Loch', 'Jeskai Ascendancy',\n",
       "       'Third Path Iconoclast', 'Seachrome Coast', 'Portable Hole',\n",
       "       'Mox Amber', 'Steam Vents', \"Mishra's Research Desk\",\n",
       "       'Skrelv, Defector Mite', 'Saheeli, Filigree Master',\n",
       "       'Karn, Scion of Urza', 'Monastery Mentor', 'Silence',\n",
       "       'Sulfurous Springs', \"Misery's Shadow\", 'Invoke Despair',\n",
       "       'Slip Out the Back', 'Supreme Phantom', 'Lofty Denial',\n",
       "       'Curious Obsession', 'Shacklegeist', 'Ascendant Spirit',\n",
       "       'Geistlight Snare', 'Lantern Bearer', 'Rattlechains',\n",
       "       'Spectral Sailor', ' Snow-Covered Island', 'Mausoleum Wanderer',\n",
       "       'Faceless Haven', 'Unsubstantiate', 'Cerulean Drake',\n",
       "       'Aethersphere Harvester', \"Blue Sun's Twilight\", 'Into the Roil',\n",
       "       'Temple Garden', \"Raffine's Informant\", 'Blooming Marsh',\n",
       "       'Darkbore Pathway', \"Can't Stay Away\", 'Sorin, Vengeful Bloodlord',\n",
       "       'Concealed Courtyard', 'Grisly Salvage', 'Razorverge Thicket',\n",
       "       'Witherbloom Command', 'Greasefang, Okiba Boss',\n",
       "       'Traverse the Ulvenwald', 'Overgrown Tomb', 'Scrapwork Mutt',\n",
       "       'Parhelion II', 'Vessel of Nascency', 'Godless Shrine',\n",
       "       'Golgari Charm', 'Knight of Autumn', 'Invasion of Amonkhet',\n",
       "       'Shipwreck Marsh', 'The Meathook Massacre', 'Joint Exploration',\n",
       "       'Depopulate', 'Cauldron Familiar', \"Witch's Oven\", 'Mayhem Devil',\n",
       "       'Deadly Dispute', 'Unlucky Witness', 'Claim the Firstborn',\n",
       "       'Annihilating Glare', 'Furnace Reins', 'Ob Nixilis, the Adversary',\n",
       "       'Leyline Binding', 'Atraxa, Grand Unifier', 'Dragonlord Atarka',\n",
       "       'Fires of Invention', \"Raffine's Tower\",\n",
       "       'Heliod, the Radiant Dawn', 'Koma, Cosmos Serpent',\n",
       "       'Elesh Norn, Mother of Machines', 'Ketria Triome',\n",
       "       'Tolsimir, Friend to Wolves', 'Zagoth Triome', 'Indatha Triome',\n",
       "       'Enigmatic Incarnation', 'Sunpetal Grove', 'Savai Triome',\n",
       "       'Touch the Spirit Realm', 'Kenrith, the Returned King',\n",
       "       'Thought Distortion', 'Radiant Flames', 'Leyline of the Void',\n",
       "       'Keruga, the Macrosage', 'Shadowspear', 'Consider',\n",
       "       'Fae of Wishes', 'Tyvar, Jubilant Brawler', 'Plaza of Heroes',\n",
       "       'Illness in the Ranks', 'Claim // Fame',\n",
       "       'Jace, Wielder of Mysteries', 'Klothys, God of Destiny',\n",
       "       'Sword of Forge and Frontier', 'Boon-Bringer Valkyrie',\n",
       "       'Settle the Wreckage', 'Test of Talents', 'Ratchet Bomb',\n",
       "       'Treasure Vault', 'Seed of Hope', 'Heart of Kiran',\n",
       "       'Escape to the Wilds', 'Omnath, Locus of Creation',\n",
       "       \"Spara's Headquarters\", \"Jetmir's Garden\", 'Bring to Light',\n",
       "       'Raugrin Triome', 'Valki, God of Lies', 'Sylvan Caryatid',\n",
       "       \"Xander's Lounge\", \"Ziatora's Proving Ground\",\n",
       "       'Selfless Glyphweaver', 'Chained to the Rocks', 'Slaughter Games',\n",
       "       'Emrakul, the Promised End', ' Plains', \"Thalia's Lieutenant\",\n",
       "       'Kytheon, Hero of Akros  a', 'Coppercoat Vanguard',\n",
       "       'Recruitment Officer', 'Hopeful Initiate', 'Brutal Cathar',\n",
       "       'Luminarch Aspirant', 'Ossification', 'Dauntless Bodyguard',\n",
       "       'Thalia, Guardian of Thraben', 'Adeline, Resplendent Cathar',\n",
       "       'Giant Killer', 'Thalia, Heretic Cathar', 'Destroy Evil',\n",
       "       'Brave the Elements', 'Imposing Sovereign', 'Wedding Announcement',\n",
       "       'Invasion of Gobakhan', 'Knight-Errant of Eos',\n",
       "       'Skyclave Apparition', 'Invasion of Ikoria', 'Spell Queller',\n",
       "       'Adarkar Wastes', 'Katilda, Dawnhart Martyr', 'Ornithopter',\n",
       "       \"Legion's Landing  a\", 'Battlefield Forge', 'Thraben Inspector',\n",
       "       'Clarion Spirit', 'Regal Leosaur', 'Resolute Reinforcements',\n",
       "       'Voldaren Epicure', 'Needleverge Pathway', 'Venerated Loxodon',\n",
       "       'Shefet Dunes', 'Gleeful Demolition', 'Reidane, God of the Worthy',\n",
       "       'Unbreakable Formation', 'Forge Devil', 'Sinister Sabotage',\n",
       "       'Cathar Commando', 'Indomitable Creativity', 'Prismari Command',\n",
       "       'Stormcarved Coast', 'Fading Hope', 'Torrential Gearhulk',\n",
       "       'Divide by Zero', 'Fiery Impulse', 'Riverglide Pathway',\n",
       "       'Volcanic Spite', 'Shivan Reef', 'Spikefield Hazard', 'Magma Opus',\n",
       "       'Environmental Sciences', 'Teachings of the Archaics',\n",
       "       'Secrets of the Key', 'Transmogrify', 'Natural State',\n",
       "       'Sphinx of the Final Word', 'Kinnan, Bonder Prodigy',\n",
       "       'Tasigur, the Golden Fang', 'Wrenn and Realmbreaker',\n",
       "       'Paradox Engine', 'Glissa Sunslayer', 'Galvanic Iteration',\n",
       "       'Lightning Axe', 'Treasure Cruise', 'Opt', 'Pieces of the Puzzle',\n",
       "       'Chart a Course', 'Arclight Phoenix', 'Temporal Trespass',\n",
       "       'Ledger Shredder', 'Thing in the Ice  a',\n",
       "       'Throne of the God-Pharaoh', 'Castle Embereth',\n",
       "       'Forbidden Friendship', 'Surge of Salvation', 'Light of Hope',\n",
       "       \"Courier's Briefcase\", 'Lavinia, Azorius Renegade',\n",
       "       'Priest of Forgotten Gods', 'Zareth San, the Trickster',\n",
       "       'Merfolk Windrobber', 'Sheoldred', 'Stubborn Denial',\n",
       "       'Otherworldly Gaze', 'Hooting Mandrills',\n",
       "       'Founding the Third Path', 'Neoform', 'Strategic Planning',\n",
       "       'Abrupt Decay', 'Discontinuity', 'Jwari Disruption  a', 'Doomskar',\n",
       "       'Finale of Revelation', 'Strict Proctor', 'Lantern of the Lost',\n",
       "       'Nissa, Resurgent Animist', 'Growth Spiral', 'Brokers Hideout',\n",
       "       'Omnath, Locus of the Roil', 'Risen Reef',\n",
       "       'Chandra, Awakened Inferno', 'Deafening Clarion',\n",
       "       'Dennick, Pious Apprentice', 'Titan of Industry',\n",
       "       'Clever Impersonator', 'Sulfur Falls', 'Agent of Treachery',\n",
       "       'Cavalier of Dawn', 'Archon of Emeria', 'Gideon, Ally of Zendikar',\n",
       "       'Pack Rat', 'Kalitas, Traitor of Ghet', 'Feed the Swarm',\n",
       "       'Teferi, Who Slows the Sunset', 'Voracious Hydra', \"Karn's Sylex\"],\n",
       "      dtype=object)"
      ]
     },
     "execution_count": 105,
     "metadata": {},
     "output_type": "execute_result"
    }
   ],
   "source": [
    "cards"
   ]
  },
  {
   "cell_type": "code",
   "execution_count": 106,
   "id": "29fcfdbb-0bda-43f3-8115-f90566aed51d",
   "metadata": {},
   "outputs": [],
   "source": [
    "mana_value = len(df[\"Mana Value\"].unique())"
   ]
  },
  {
   "cell_type": "code",
   "execution_count": 107,
   "id": "ec12c8bc-4b5d-408d-b6e2-8d06a7fc83a6",
   "metadata": {},
   "outputs": [
    {
     "data": {
      "text/plain": [
       "13"
      ]
     },
     "execution_count": 107,
     "metadata": {},
     "output_type": "execute_result"
    }
   ],
   "source": [
    "mana_value"
   ]
  },
  {
   "cell_type": "code",
   "execution_count": 108,
   "id": "68257666-923c-4442-a528-6bf4d208eeee",
   "metadata": {},
   "outputs": [],
   "source": [
    "mana_v = df['Mana Value'].unique()\n",
    "mana_v_list = mana_v.tolist()"
   ]
  },
  {
   "cell_type": "code",
   "execution_count": 109,
   "id": "f8c14fbd-c3b9-48e7-8be2-d57f2d071c2e",
   "metadata": {},
   "outputs": [
    {
     "data": {
      "text/plain": [
       "array([ 0.,  1.,  6.,  4.,  3.,  2.,  5.,  8., 10.,  7.,  9., 13., 11.])"
      ]
     },
     "execution_count": 109,
     "metadata": {},
     "output_type": "execute_result"
    }
   ],
   "source": [
    "mana_v"
   ]
  },
  {
   "cell_type": "code",
   "execution_count": 110,
   "id": "ce25e13b-c729-4ea1-a58a-95dcee6f14fb",
   "metadata": {},
   "outputs": [],
   "source": [
    "colours = len(df[\"Colours\"].unique())"
   ]
  },
  {
   "cell_type": "code",
   "execution_count": 111,
   "id": "ed9340f6-5623-47f3-9847-9ba5fff2a8e8",
   "metadata": {},
   "outputs": [
    {
     "data": {
      "text/plain": [
       "24"
      ]
     },
     "execution_count": 111,
     "metadata": {},
     "output_type": "execute_result"
    }
   ],
   "source": [
    "colours"
   ]
  },
  {
   "cell_type": "code",
   "execution_count": 112,
   "id": "5a21f80d-7072-4b9e-aa40-555b585a8518",
   "metadata": {},
   "outputs": [],
   "source": [
    "colours_list = df['Colours'].unique()\n",
    "colours_list_list = colours_list.tolist()"
   ]
  },
  {
   "cell_type": "code",
   "execution_count": 113,
   "id": "6e0f6db4-b3db-446c-8237-751b3394ccaa",
   "metadata": {},
   "outputs": [
    {
     "data": {
      "text/plain": [
       "array([\"['L']\", \"['W']\", \"['U']\", \"['U', 'W']\", \"['G']\", '[]',\n",
       "       \"['R', 'W']\", \"['B']\", \"['R']\", \"['B', 'G', 'U']\",\n",
       "       \"['G', 'R', 'W']\", \"['G', 'W']\", \"['G', 'R']\", \"['G', 'U']\",\n",
       "       \"['B', 'R', 'U']\", \"['B', 'R']\", \"['B', 'U']\", \"['R', 'U']\",\n",
       "       \"['R', 'U', 'W']\", \"['B', 'W']\", \"['B', 'G']\",\n",
       "       \"['B', 'G', 'U', 'W']\", \"['G', 'R', 'U', 'W']\", \"['G', 'R', 'U']\"],\n",
       "      dtype=object)"
      ]
     },
     "execution_count": 113,
     "metadata": {},
     "output_type": "execute_result"
    }
   ],
   "source": [
    "colours_list"
   ]
  },
  {
   "cell_type": "code",
   "execution_count": 114,
   "id": "8ae86a9c-59c6-4487-b2dc-302d7e5dbea0",
   "metadata": {},
   "outputs": [],
   "source": [
    "mana_cost = len(df[\"Mana Cost\"].unique())"
   ]
  },
  {
   "cell_type": "code",
   "execution_count": 115,
   "id": "f4b3cfbb-f662-435b-8b24-2acedf6f3643",
   "metadata": {},
   "outputs": [
    {
     "data": {
      "text/plain": [
       "130"
      ]
     },
     "execution_count": 115,
     "metadata": {},
     "output_type": "execute_result"
    }
   ],
   "source": [
    "mana_cost"
   ]
  },
  {
   "cell_type": "code",
   "execution_count": 116,
   "id": "ebe9a2eb-99cd-402d-b1f7-735449ccdb64",
   "metadata": {},
   "outputs": [],
   "source": [
    "mana_c = df['Mana Cost'].unique()\n",
    "mana_c_list = mana_c.tolist()"
   ]
  },
  {
   "cell_type": "code",
   "execution_count": 117,
   "id": "8da96641-8474-4396-b5cf-1da8f23c3635",
   "metadata": {},
   "outputs": [
    {
     "data": {
      "text/plain": [
       "array([nan, '{W}', '{4}{W}{W}', '{2}{U}{U}', '{X}{W}', '{2}{U}', '{1}{W}',\n",
       "       '{W}{U}{U}', '{2}{W}', '{W}{U}', '{2}{G}{G}', '{5}{U}', '{1}{U}',\n",
       "       '{3}{W}{U}', '{1}{U}{U}', '{2}{W}{W}', '{6}{U}{U}', '{1}{W}{W}',\n",
       "       '{2}{W}{W}{U}{U}', '{3}{U}', '{2}', '{1}{R/W}{R/W}', '{G}',\n",
       "       '{3}{U}{U}', '{5}{B}{B}', '{3}{B}{B}', '{2}{G}', '{7}{U}{U}{U}',\n",
       "       '{2}{R}', '{2}{B}{B}', '{B}{B}{G}{G}{G}{U}{U}', '{1}{G}', '{1}',\n",
       "       '{U}{U}', '{6}{R}{G}{W}', '{1}{W}{W}{U}', '{1}{R}{R}', '{4}{G}{W}',\n",
       "       '{6}{W}', '{R}{G}', '{1}{R}', '{2}{R}{G}', '{R}', '{R/G}{R/G}',\n",
       "       '{2}{R}{R}', '{3}{R}', '{3}{G}{G}', '{2}{G}{G}{G}', '{2}{G/U}',\n",
       "       '{4}', '{G}{G}{G}', '{3}{G}{G}{G}', '{U}{B}{B}{B}{R}', '{2}{B}',\n",
       "       '{8}', '{3}', '{10}', '{5}', '{3}{G}', '{4}{R}{R}', '{1}{B}{B}',\n",
       "       '{3}{W}{W}', '{5}{U}{U}', '{B}{R}', '{B}', '{1}{B}', '{3}{B}',\n",
       "       '{1}{B}{R}', '{X}{B}{B}{B}', '{U}{B}', '{1}{U}{B}', '{U}',\n",
       "       '{2}{U}{B}', '{3}{W/U}{W/U}', '{6}', '{1}{R}{G}', '{4}{R/G}',\n",
       "       '{1}{U/R}{U/R}', '{U}{R}{W}', '{U}{R}', '{2}{U}{R}', '{4}{W}',\n",
       "       '{1}{B}{B}{B}{B}', '{X}{U}{U}', '{W}{B}', '{2}{W}{B}', '{B}{G}',\n",
       "       '{1}{W}{B}', '{6}{W}{W}', '{1}{G}{W}', '{X}{B}{B}', '{5}{W}',\n",
       "       '{3}{G}{W}{U}{B}', '{5}{R}{G}', '{4}{R}', '{3}{G}{G}{U}{U}',\n",
       "       '{2}{G}{G}{W}', '{2}{G}{U}', '{4}{B}{B}', '{3}{G/U}{G/U}',\n",
       "       '{1}{B}{G}', '{1}{U}{U}{U}', '{3}{R}{G}', '{1}{R}{G}{W}{U}',\n",
       "       '{3}{G}{U}', '{2}{B}{R}', '{13}', '{5}{G}{G}', '{X}{G}{G}',\n",
       "       '{1}{W}{U}', '{R}{W}', '{X}{R}{R}{R}', '{1}{U}{R}', '{4}{U}{U}',\n",
       "       '{6}{U}{R}', '{G}{U}', '{5}{B}', '{1}{G}{G}', '{7}{U}',\n",
       "       '{8}{U}{U}{U}', '{3}{U}{B}', '{4}{B}', '{5}{G}', '{3}{U}{U}{U}',\n",
       "       '{1}{G}{U}{R}', '{1}{G}{U}', '{1}{R}{W}', '{4}{G}{G}{G}',\n",
       "       '{2}{W}{W}{W}', '{2}{W}{U}'], dtype=object)"
      ]
     },
     "execution_count": 117,
     "metadata": {},
     "output_type": "execute_result"
    }
   ],
   "source": [
    "mana_c"
   ]
  },
  {
   "cell_type": "code",
   "execution_count": 118,
   "id": "bf9bb0d1-dca1-4748-9184-859fdccd5bb5",
   "metadata": {},
   "outputs": [],
   "source": [
    "player = len(df[\"Pilot\"].unique())"
   ]
  },
  {
   "cell_type": "code",
   "execution_count": 119,
   "id": "af5d9e38-4482-4e37-b99b-a7d6ae0caf8a",
   "metadata": {},
   "outputs": [
    {
     "data": {
      "text/plain": [
       "48"
      ]
     },
     "execution_count": 119,
     "metadata": {},
     "output_type": "execute_result"
    }
   ],
   "source": [
    "player"
   ]
  },
  {
   "cell_type": "code",
   "execution_count": 120,
   "id": "54ff40d0-c900-406c-8717-54046ab4394a",
   "metadata": {},
   "outputs": [],
   "source": [
    "pilot = df['Pilot'].unique()\n",
    "pilot_list = pilot.tolist()"
   ]
  },
  {
   "cell_type": "code",
   "execution_count": 121,
   "id": "30e27118-24fc-4f18-b5ea-88c2748a2880",
   "metadata": {},
   "outputs": [
    {
     "data": {
      "text/plain": [
       "array(['Pilot 1', 'Pilot 2', 'Pilot 3', 'Pilot 4', 'Pilot 5', 'Pilot 6',\n",
       "       'Pilot 7', 'Pilot 8', 'Pilot 9', 'Pilot 10', 'Pilot 11',\n",
       "       'Pilot 12', 'Pilot 13', 'Pilot 14', 'Pilot 15', 'Pilot 16',\n",
       "       'Pilot 17', 'Pilot 18', 'Pilot 19', 'Pilot 20', 'Pilot 21',\n",
       "       'Pilot 22', 'Pilot 23', 'Pilot 24', 'Pilot 25', 'Pilot 26',\n",
       "       'Pilot 27', 'Pilot 28', 'Pilot 29', 'Pilot 30', 'Pilot 31',\n",
       "       'Pilot 32', 'Pilot 33', 'Pilot 34', 'Pilot 35', 'Pilot 36',\n",
       "       'Pilot 37', 'Pilot 38', 'Pilot 39', 'Pilot 40', 'Pilot 41',\n",
       "       'Pilot 42', 'Pilot 43', 'Pilot 44', 'Pilot 45', 'Pilot 46',\n",
       "       'Pilot 47', 'Pilot 48'], dtype=object)"
      ]
     },
     "execution_count": 121,
     "metadata": {},
     "output_type": "execute_result"
    }
   ],
   "source": [
    "pilot"
   ]
  },
  {
   "cell_type": "code",
   "execution_count": 122,
   "id": "d93cfd86-3180-48a5-a079-8baf98bcd217",
   "metadata": {},
   "outputs": [],
   "source": [
    "archetype = len(df[\"Archetype\"].unique())"
   ]
  },
  {
   "cell_type": "code",
   "execution_count": 123,
   "id": "dbf6c87a-f149-4592-9add-7b185ec53ed1",
   "metadata": {},
   "outputs": [
    {
     "data": {
      "text/plain": [
       "23"
      ]
     },
     "execution_count": 123,
     "metadata": {},
     "output_type": "execute_result"
    }
   ],
   "source": [
    "archetype"
   ]
  },
  {
   "cell_type": "code",
   "execution_count": 124,
   "id": "5161195f-7a54-41d1-9420-b05e02aa4f23",
   "metadata": {},
   "outputs": [],
   "source": [
    "archetype_l = df['Archetype'].unique()\n",
    "pilot_list = archetype_l.tolist()"
   ]
  },
  {
   "cell_type": "code",
   "execution_count": 125,
   "id": "b63b2d49-cca8-463f-96b4-87d3ea87bcc8",
   "metadata": {},
   "outputs": [
    {
     "data": {
      "text/plain": [
       "array(['Azorius Control', 'Lotus Field Combo', 'Atarka Red',\n",
       "       'Mono-Green Devotion', 'Rakdos Midrange', 'Dimir Rogues',\n",
       "       'Gruul Vehicles', 'Jeskai Ascendancy Combo', 'Mono-Blue Spirits',\n",
       "       'Abzan Greasefang', 'Rakdos Sacrifice', 'Enigmatic Fires',\n",
       "       'Rona Combo', 'Omnath to Light', 'Mono-White Humans',\n",
       "       'Azorius Spirits', 'Boros Convoke', 'Izzet Creativity',\n",
       "       'Izzet Phoenix', 'Neoform Atraxa', 'Azorius Lotus Field',\n",
       "       'Four-Color Elementals', 'Enigmatic-Fires'], dtype=object)"
      ]
     },
     "execution_count": 125,
     "metadata": {},
     "output_type": "execute_result"
    }
   ],
   "source": [
    "archetype_l"
   ]
  },
  {
   "cell_type": "code",
   "execution_count": 126,
   "id": "a31debc8-dd65-4065-ab0c-e3b1094d3b36",
   "metadata": {},
   "outputs": [],
   "source": [
    "event = len(df[\"Event\"].unique())"
   ]
  },
  {
   "cell_type": "code",
   "execution_count": 127,
   "id": "b732d1f5-95c8-42b0-baac-702cddf2bcf7",
   "metadata": {},
   "outputs": [
    {
     "data": {
      "text/plain": [
       "4"
      ]
     },
     "execution_count": 127,
     "metadata": {},
     "output_type": "execute_result"
    }
   ],
   "source": [
    "event"
   ]
  },
  {
   "cell_type": "code",
   "execution_count": 128,
   "id": "8bb5e694-08b9-498f-8c61-3ef6a6a661ce",
   "metadata": {},
   "outputs": [],
   "source": [
    "event_l = df['Event'].unique()\n",
    "event_list = event_l.tolist()"
   ]
  },
  {
   "cell_type": "code",
   "execution_count": 129,
   "id": "8989c450-ab00-4635-a1ab-591c814098d5",
   "metadata": {},
   "outputs": [
    {
     "data": {
      "text/plain": [
       "array(['MTG China Open', 'Dreamhack Magic Showdown',\n",
       "       'F2F Tour Championship', 'MTG SEA Championship'], dtype=object)"
      ]
     },
     "execution_count": 129,
     "metadata": {},
     "output_type": "execute_result"
    }
   ],
   "source": [
    "event_l"
   ]
  },
  {
   "cell_type": "code",
   "execution_count": 130,
   "id": "14c607b9-2022-4833-bc8d-18a014dffdfb",
   "metadata": {},
   "outputs": [],
   "source": [
    "printing = len(df[\"Most Recent Printing\"].unique())"
   ]
  },
  {
   "cell_type": "code",
   "execution_count": 131,
   "id": "095da695-6c71-47a2-aa1e-415c439b1136",
   "metadata": {},
   "outputs": [
    {
     "data": {
      "text/plain": [
       "68"
      ]
     },
     "execution_count": 131,
     "metadata": {},
     "output_type": "execute_result"
    }
   ],
   "source": [
    "printing"
   ]
  },
  {
   "cell_type": "code",
   "execution_count": 132,
   "id": "82e2884e-ad26-4cf5-8419-674b3e1ecaa4",
   "metadata": {},
   "outputs": [],
   "source": [
    "printing_l = df['Most Recent Printing'].unique()\n",
    "printing_list = printing_l.tolist()"
   ]
  },
  {
   "cell_type": "code",
   "execution_count": 133,
   "id": "1203160e-2af6-49dc-b8db-3e9310715077",
   "metadata": {},
   "outputs": [
    {
     "data": {
      "text/plain": [
       "['2019-01-25',\n",
       " '2023-04-21',\n",
       " '2020-04-17',\n",
       " '2020-07-03',\n",
       " '2022-04-29',\n",
       " '2022-06-10',\n",
       " '2022-02-18',\n",
       " '2021-07-23',\n",
       " '2022-11-18',\n",
       " '2019-10-04',\n",
       " '2015-07-17',\n",
       " '2019-05-03',\n",
       " '2021-09-24',\n",
       " '2020-04-24',\n",
       " '2018-04-27',\n",
       " '2023-10-13',\n",
       " '2016-04-08',\n",
       " '2022-09-09',\n",
       " '2019-07-12',\n",
       " '2020-01-24',\n",
       " '2013-05-03',\n",
       " '2023-05-08',\n",
       " '2018-07-13',\n",
       " '2014-07-18',\n",
       " '2018-01-19',\n",
       " '2020-08-07',\n",
       " '2015-10-02',\n",
       " '2016-09-30',\n",
       " '2022-07-08',\n",
       " '2020-07-17',\n",
       " '2016-08-26',\n",
       " '2021-02-05',\n",
       " '2017-04-28',\n",
       " '2023-02-03',\n",
       " '2017-07-14',\n",
       " '2016-01-22',\n",
       " '2008-10-03',\n",
       " '2015-03-27',\n",
       " '2021-11-19',\n",
       " '2018-10-05',\n",
       " '2017-01-20',\n",
       " '2013-09-27',\n",
       " '2019-06-14',\n",
       " '2018-11-16',\n",
       " '2021-04-23',\n",
       " '2017-09-29',\n",
       " '2016-07-22',\n",
       " '2018-03-16',\n",
       " '2016-09-02',\n",
       " '2017-06-16',\n",
       " '2020-09-25',\n",
       " '2021-03-19',\n",
       " '2022-04-22',\n",
       " '2006-02-03',\n",
       " '2014-05-02',\n",
       " '2020-11-20',\n",
       " '2018-12-07',\n",
       " '2015-01-23',\n",
       " '2013-02-01',\n",
       " '2012-10-05',\n",
       " '2023-05-12',\n",
       " '2014-11-07',\n",
       " '2013-07-19',\n",
       " '2022-10-07',\n",
       " '2011-05-13',\n",
       " '2014-09-26',\n",
       " '2017-03-17',\n",
       " '2019-08-23']"
      ]
     },
     "execution_count": 133,
     "metadata": {},
     "output_type": "execute_result"
    }
   ],
   "source": [
    "printing_list"
   ]
  },
  {
   "cell_type": "code",
   "execution_count": 134,
   "id": "e44d105b-a23a-42aa-b3e4-28c50387f25d",
   "metadata": {},
   "outputs": [],
   "source": [
    "type = len(df[\"Type Line\"].unique())"
   ]
  },
  {
   "cell_type": "code",
   "execution_count": 135,
   "id": "504764f6-da9d-4f49-acd7-0ece9bd443be",
   "metadata": {},
   "outputs": [
    {
     "data": {
      "text/plain": [
       "181"
      ]
     },
     "execution_count": 135,
     "metadata": {},
     "output_type": "execute_result"
    }
   ],
   "source": [
    "type"
   ]
  },
  {
   "cell_type": "code",
   "execution_count": 136,
   "id": "9c5e4882-1778-4413-9304-3895bf209a75",
   "metadata": {},
   "outputs": [],
   "source": [
    "type_l = df['Type Line'].unique()\n",
    "type_l_list = type_l.tolist()"
   ]
  },
  {
   "cell_type": "code",
   "execution_count": 137,
   "id": "528d3d5b-4419-412a-934a-ca597454a366",
   "metadata": {},
   "outputs": [
    {
     "data": {
      "text/plain": [
       "array(['Land — Plains Island', 'Land', 'Legendary Land', 'Sorcery',\n",
       "       'Instant', 'Creature — Bird Wizard', 'Enchantment',\n",
       "       'Legendary Planeswalker — Teferi',\n",
       "       'Legendary Planeswalker — Narset', 'Legendary Planeswalker',\n",
       "       'Basic Land — Island', 'Creature — Sphinx', 'Instant // Sorcery',\n",
       "       'Artifact — Vehicle', 'Legendary Creature — Elemental Fox',\n",
       "       'Creature — Beast', 'Legendary Creature — Human Wizard',\n",
       "       'Land — Forest Island', 'Sorcery // Land',\n",
       "       'Creature — Human Cleric', 'Artifact',\n",
       "       'Legendary Creature — Elder Dinosaur', 'Creature — Satyr Druid',\n",
       "       'Legendary Creature — Elder Dragon', 'Enchantment — Aura',\n",
       "       'Creature — Giant // Instant — Adventure', 'Land // Land',\n",
       "       'Legendary Creature — Human Pirate', 'Legendary Creature — Satyr',\n",
       "       'Creature — Phoenix', 'Land — Desert', 'Creature — Human Monk',\n",
       "       'Enchantment — Saga // Enchantment Creature — Human Shaman',\n",
       "       'Creature — Goblin Warrior Ally', 'Creature — Human Shaman',\n",
       "       'Land — Mountain Forest', 'Creature — Goblin Scout',\n",
       "       'Legendary Planeswalker — Chandra', 'Creature — Elf Druid',\n",
       "       'Creature — Elemental Knight', 'Legendary Planeswalker — Kiora',\n",
       "       'Legendary Planeswalker — Karn', 'Legendary Enchantment',\n",
       "       'Legendary Creature — Hydra // Legendary Creature — Phyrexian Hydra',\n",
       "       'Creature — Troll Warrior', 'Legendary Planeswalker — Bolas',\n",
       "       'Artifact // Sorcery', 'Artifact Creature — Insect',\n",
       "       'Artifact Land', 'Legendary Artifact',\n",
       "       'Artifact Creature — Construct', 'Legendary Artifact — Powerstone',\n",
       "       'Legendary Artifact — Vehicle', 'Creature — Human Druid',\n",
       "       'Legendary Creature — Angel', 'Creature — Kraken Horror',\n",
       "       'Creature — Phyrexian Shark', 'Creature — Angel',\n",
       "       'Creature — Vampire', 'Legendary Planeswalker — Liliana',\n",
       "       'Legendary Creature — Phyrexian Praetor', 'Land — Swamp Mountain',\n",
       "       'Land — Swamp', 'Legendary Creature — Elder Giant',\n",
       "       'Enchantment — Saga // Enchantment Creature — Goblin Shaman',\n",
       "       'Creature — Human Werewolf // Creature — Werewolf',\n",
       "       'Enchantment — Saga // Enchantment Creature — Ogre Shaman',\n",
       "       'Creature — Faerie Rogue // Instant — Adventure',\n",
       "       'Creature — Vampire Rogue', 'Creature — Faerie Rogue',\n",
       "       'Creature — Human Rogue', 'Legendary Planeswalker — Kaito',\n",
       "       'Land — Island Swamp', 'Creature — Human Pirate',\n",
       "       'Instant // Land', 'Legendary Planeswalker — Elspeth',\n",
       "       'Legendary Creature — Bird Serpent', 'Enchantment — Saga',\n",
       "       'Legendary Creature — Phyrexian Beast',\n",
       "       'Battle — Siege // Creature — Dinosaur',\n",
       "       'Creature — Vampire Warrior',\n",
       "       'Creature — Beast Noble // Sorcery — Adventure',\n",
       "       'Legendary Artifact — Equipment', 'Creature — Spirit',\n",
       "       'Legendary Creature — Elemental Elk',\n",
       "       'Legendary Creature — Human Wizard // Legendary Planeswalker — Jace',\n",
       "       'Legendary Creature — Human Wizard // Legendary Creature — Phyrexian Wizard',\n",
       "       'Land — Mountain Plains', 'Legendary Planeswalker — Saheeli',\n",
       "       'Legendary Creature — Merfolk Wizard', 'Land — Island Mountain',\n",
       "       'Legendary Artifact Creature — Phyrexian Mite', 'Creature — Shade',\n",
       "       'Snow Creature — Spirit',\n",
       "       'Creature — Spirit // Enchantment — Aura',\n",
       "       'Creature — Spirit Pirate', 'Basic Snow Land — Island',\n",
       "       'Snow Land', 'Creature — Drake', 'Land — Forest Plains',\n",
       "       'Creature — Human Wizard', 'Legendary Planeswalker — Sorin',\n",
       "       'Legendary Creature — Rat Pilot', 'Land — Swamp Forest',\n",
       "       'Artifact Creature — Dog', 'Land — Plains Swamp',\n",
       "       'Creature — Dryad Knight', 'Battle — Siege // Creature — Zombie',\n",
       "       'Creature — Cat', 'Creature — Devil', 'Creature — Human Citizen',\n",
       "       'Legendary Planeswalker — Nixilis',\n",
       "       'Legendary Creature — Phyrexian Angel',\n",
       "       'Land — Plains Island Swamp',\n",
       "       'Legendary Enchantment Creature — God // Legendary Enchantment Creature — Phyrexian God',\n",
       "       'Legendary Creature — Serpent', 'Land — Forest Island Mountain',\n",
       "       'Legendary Creature — Elf Scout', 'Land — Swamp Forest Island',\n",
       "       'Land — Plains Swamp Forest', 'Land — Mountain Plains Swamp',\n",
       "       'Legendary Creature — Human Noble',\n",
       "       'Legendary Creature — Dinosaur Hippo', 'Creature — Human Warrior',\n",
       "       'Creature — Faerie Wizard // Sorcery — Adventure',\n",
       "       'Legendary Planeswalker — Tyvar', 'Sorcery // Sorcery',\n",
       "       'Legendary Planeswalker — Jace',\n",
       "       'Legendary Enchantment Creature — God', 'Artifact — Equipment',\n",
       "       'Creature — Angel Warrior', 'Legendary Creature — Elemental',\n",
       "       'Land — Forest Plains Island', 'Land — Mountain Forest Plains',\n",
       "       'Land — Island Mountain Plains',\n",
       "       'Legendary Creature — God // Legendary Planeswalker — Tibalt',\n",
       "       'Creature — Plant', 'Land — Island Swamp Mountain',\n",
       "       'Land — Swamp Mountain Forest',\n",
       "       'Creature — Human Cleric // Sorcery',\n",
       "       'Legendary Creature — Eldrazi', 'Creature — Human Soldier',\n",
       "       'Legendary Creature — Human Soldier // Legendary Planeswalker — Gideon',\n",
       "       'Creature — Human Warlock',\n",
       "       'Creature — Human Soldier Werewolf // Creature — Werewolf',\n",
       "       'Creature — Human Knight', 'Legendary Creature — Human Soldier',\n",
       "       'Legendary Creature — Human Knight',\n",
       "       'Creature — Human Peasant // Instant — Adventure',\n",
       "       'Creature — Human Noble', 'Enchantment // Enchantment',\n",
       "       'Battle — Siege // Enchantment', 'Creature — Kor Spirit',\n",
       "       'Battle — Siege // Legendary Creature — Dinosaur',\n",
       "       'Legendary Creature — Spirit Warlock // Legendary Enchantment — Aura',\n",
       "       'Artifact Creature — Thopter',\n",
       "       'Legendary Enchantment // Legendary Land',\n",
       "       'Creature — Dinosaur Cat', 'Creature — Elephant Cleric',\n",
       "       'Legendary Creature — God // Legendary Artifact',\n",
       "       'Sorcery — Lesson', 'Legendary Creature — Human Druid',\n",
       "       'Legendary Creature — Human Shaman',\n",
       "       'Legendary Planeswalker — Wrenn',\n",
       "       'Legendary Creature — Phyrexian Zombie Elf',\n",
       "       'Creature — Bird Advisor',\n",
       "       'Creature — Horror // Creature — Kraken Horror',\n",
       "       'Artifact — Treasure', 'Legendary Creature — Merfolk Rogue',\n",
       "       'Creature — Merfolk Rogue', 'Creature — Phyrexian Horror',\n",
       "       'Creature — Ape', 'Creature — Spirit Cleric',\n",
       "       'Creature — Elemental',\n",
       "       'Legendary Creature — Human Soldier // Legendary Creature — Spirit Soldier',\n",
       "       'Creature — Shapeshifter', 'Creature — Archon',\n",
       "       'Legendary Planeswalker — Gideon', 'Creature — Rat',\n",
       "       'Legendary Creature — Vampire Warrior', 'Creature — Hydra'],\n",
       "      dtype=object)"
      ]
     },
     "execution_count": 137,
     "metadata": {},
     "output_type": "execute_result"
    }
   ],
   "source": [
    "type_l"
   ]
  },
  {
   "cell_type": "code",
   "execution_count": null,
   "id": "ff3febe2-9b93-40b5-a7d9-160b2847f5c4",
   "metadata": {},
   "outputs": [],
   "source": []
  },
  {
   "cell_type": "code",
   "execution_count": 66,
   "id": "ccc0d9ec-08e7-453e-91f7-f71b0dcf13e5",
   "metadata": {},
   "outputs": [],
   "source": [
    "rare = len(df[\"Rarity\"].unique())"
   ]
  },
  {
   "cell_type": "code",
   "execution_count": 67,
   "id": "b5f95e81-d744-48d9-8e33-ab7aeabe8825",
   "metadata": {},
   "outputs": [
    {
     "data": {
      "text/plain": [
       "4"
      ]
     },
     "execution_count": 67,
     "metadata": {},
     "output_type": "execute_result"
    }
   ],
   "source": [
    "rare"
   ]
  },
  {
   "cell_type": "code",
   "execution_count": 138,
   "id": "255da71d-a0ae-44c6-bb0c-70fdf77790fc",
   "metadata": {},
   "outputs": [],
   "source": [
    "rare_l = df['Rarity'].unique()\n",
    "rare_list = rare_l.tolist()"
   ]
  },
  {
   "cell_type": "code",
   "execution_count": 139,
   "id": "022c98ae-5cb3-450b-9220-a70844c131fd",
   "metadata": {},
   "outputs": [
    {
     "data": {
      "text/plain": [
       "['rare', 'uncommon', 'common', 'mythic']"
      ]
     },
     "execution_count": 139,
     "metadata": {},
     "output_type": "execute_result"
    }
   ],
   "source": [
    "rare_list"
   ]
  },
  {
   "cell_type": "code",
   "execution_count": null,
   "id": "1d842c40-84f8-475d-8743-9305edb7158b",
   "metadata": {},
   "outputs": [],
   "source": []
  },
  {
   "cell_type": "code",
   "execution_count": 13,
   "id": "e9efd68e-ee37-4a21-8427-0333039cf373",
   "metadata": {},
   "outputs": [
    {
     "data": {
      "image/png": "[encoded data removed]",
      "text/plain": [
       "<Figure size 1000x600 with 1 Axes>"
      ]
     },
     "metadata": {},
     "output_type": "display_data"
    }
   ],
   "source": [
    "# Step 1: Get the Data\n",
    "x = df.Event\n",
    "y = df.Archetype\n",
    "\n",
    "# Step 2: Make the canvas\n",
    "plt.figure(figsize=(10, 6))\n",
    "\n",
    "# Step 3: Make the basic plot\n",
    "plt.scatter(x, y, facecolor=\"firebrick\", edgecolor=\"black\", s=100)\n",
    "\n",
    "# Step 4: Customizations\n",
    "plt.xlabel(\"Event\", fontsize=12, fontstyle=\"italic\")\n",
    "plt.ylabel(\"Archetype\", fontsize=12, fontstyle=\"italic\")\n",
    "plt.title(\"Event vs Archetype\", fontweight=\"bold\", fontsize=16)\n",
    "# Save the figure\n",
    "#plt.savefig(\"../output_data/Fig2.png\")\n",
    "\n",
    "# Show plot\n",
    "plt.show()"
   ]
  },
  {
   "cell_type": "code",
   "execution_count": null,
   "id": "2dddc360-5e1b-4f04-b1c6-b14af0d57231",
   "metadata": {},
   "outputs": [],
   "source": []
  },
  {
   "cell_type": "code",
   "execution_count": null,
   "id": "79cca1d5-de88-4752-823e-c9f84473c54b",
   "metadata": {},
   "outputs": [],
   "source": []
  },
  {
   "cell_type": "code",
   "execution_count": null,
   "id": "0902a2cf-a061-47f5-a742-a0f4b7ba6969",
   "metadata": {},
   "outputs": [],
   "source": []
  }
 ],
 "metadata": {
  "kernelspec": {
   "display_name": "Python 3 (ipykernel)",
   "language": "python",
   "name": "python3"
  },
  "language_info": {
   "codemirror_mode": {
    "name": "ipython",
    "version": 3
   },
   "file_extension": ".py",
   "mimetype": "text/x-python",
   "name": "python",
   "nbconvert_exporter": "python",
   "pygments_lexer": "ipython3",
   "version": "3.10.14"
  }
 },
 "nbformat": 4,
 "nbformat_minor": 5
}
