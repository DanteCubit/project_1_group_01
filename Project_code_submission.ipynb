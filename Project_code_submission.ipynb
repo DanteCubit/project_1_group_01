{
 "cells": [
  {
   "cell_type": "code",
   "execution_count": null,
   "id": "a0e0e483-255f-44c1-b080-3489bb6d1a65",
   "metadata": {},
   "outputs": [],
   "source": [
    "from pathlib import Path\n",
    "import pandas as pd\n",
    "import scipy.stats as stats\n",
    "import numpy as np\n",
    "import matplotlib.pyplot as plt\n",
    "import seaborn as sns\n"
   ]
  },
  {
   "cell_type": "code",
   "execution_count": null,
   "id": "1acadb4a-e7a8-446c-af11-af0bf54cd08c",
   "metadata": {},
   "outputs": [],
   "source": [
    "# Create a file path\n",
    "filepath = \"../Resources/data.csv\"\n",
    "# Read in the data.\n",
    "df = pd.read_csv(filepath)\n",
    "df.head()"
   ]
  },
  {
   "cell_type": "code",
   "execution_count": null,
   "id": "1d14ad5b-a22a-4092-a568-259dc0bb85bf",
   "metadata": {},
   "outputs": [],
   "source": [
    "#drop Date Posted column\n",
    "df.drop(columns=[\"Date Posted\"], inplace=True)"
   ]
  },
  {
   "cell_type": "code",
   "execution_count": null,
   "id": "acfabf0d-2a07-4439-9b8e-0e66419c7d0a",
   "metadata": {},
   "outputs": [],
   "source": [
    "df.head()"
   ]
  },
  {
   "cell_type": "code",
   "execution_count": null,
   "id": "00164537-5e46-4c31-836f-27cc0899e608",
   "metadata": {},
   "outputs": [],
   "source": [
    "#Drop Price EUR column\n",
    "df.drop(columns=[\"Price EUR\"], inplace=True)"
   ]
  },
  {
   "cell_type": "code",
   "execution_count": null,
   "id": "f79092b3-06a7-4d6d-a44d-070e0986c504",
   "metadata": {},
   "outputs": [],
   "source": [
    "df.info()"
   ]
  },
  {
   "cell_type": "code",
   "execution_count": null,
   "id": "581f2669-8d12-4295-b93e-3815a01c2d16",
   "metadata": {},
   "outputs": [],
   "source": [
    "df.head()"
   ]
  },
  {
   "cell_type": "code",
   "execution_count": null,
   "id": "23146dd3-1932-4be0-a4bd-14406f583cc2",
   "metadata": {},
   "outputs": [],
   "source": [
    "#separte artifacts from lands\n",
    "df.loc[df[\"Type Line\"].str.contains(\"Land\"), \"Colours\"] = \"['L']\"\n",
    "\n",
    "#remove null values from Lands\n",
    "df.loc[df[\"Mana Cost\"].isna(), \"Mana Cost\"] = \"['L']\"\n",
    "\n",
    "df.head() #final clean version of the data set"
   ]
  },
  {
   "cell_type": "code",
   "execution_count": null,
   "id": "be6bb25f-57e7-418f-b0a0-c25bfc88bb62",
   "metadata": {},
   "outputs": [],
   "source": [
    "#This will drop null values from the Price USD column \n",
    "price_drop_df = df.dropna(subset=['Price USD'])"
   ]
  },
  {
   "cell_type": "code",
   "execution_count": null,
   "id": "dd5cc5e7-208d-44dc-b694-2674d81d0fe6",
   "metadata": {},
   "outputs": [],
   "source": [
    "price_drop_df #the dataframe for the linregress"
   ]
  },
  {
   "cell_type": "code",
   "execution_count": null,
   "id": "56390605-dba1-42ad-8068-5645ee02a7ae",
   "metadata": {},
   "outputs": [],
   "source": [
    "# count number of colors/color combinations and the number of each occurrance\n",
    "colours = df['Colours'].value_counts()\n",
    "print(colours)\n",
    "print(type(colours))\n",
    "# 23 variations as series. I don't see any null values or bad data."
   ]
  },
  {
   "cell_type": "code",
   "execution_count": null,
   "id": "0c31a372-dafd-4488-a14b-015783d1b1b4",
   "metadata": {},
   "outputs": [],
   "source": [
    "# Update 'Colours' column based on the condition 'Type Line' contains 'Land'\n",
    "# This will differentiate between Lands and Artifacts, which are both colorless\n",
    "df.loc[df[\"Type Line\"].str.contains(\"Land\"), \"Colours\"] = \"['L']\"\n",
    "print(colours)"
   ]
  },
  {
   "cell_type": "code",
   "execution_count": null,
   "id": "2dddc360-5e1b-4f04-b1c6-b14af0d57231",
   "metadata": {},
   "outputs": [],
   "source": [
    "df.info()"
   ]
  },
  {
   "cell_type": "code",
   "execution_count": null,
   "id": "79cca1d5-de88-4752-823e-c9f84473c54b",
   "metadata": {},
   "outputs": [],
   "source": [
    "price_drop_df[\"Printing Dates\"]=pd.to_datetime(df[\"Most Recent Printing\"])"
   ]
  },
  {
   "cell_type": "code",
   "execution_count": null,
   "id": "0902a2cf-a061-47f5-a742-a0f4b7ba6969",
   "metadata": {},
   "outputs": [],
   "source": [
    "price_drop_df.info()"
   ]
  },
  {
   "cell_type": "code",
   "execution_count": null,
   "id": "83336ab9-27cb-4bcd-998a-17eb7ce5754f",
   "metadata": {},
   "outputs": [],
   "source": [
    "today = pd.Timestamp(\"2024-06-03\")"
   ]
  },
  {
   "cell_type": "code",
   "execution_count": null,
   "id": "f17fcfd7-21f0-4800-b3ab-bae828c7aded",
   "metadata": {},
   "outputs": [],
   "source": [
    "price_drop_df[\"Printing Age\"] = (today-price_drop_df[\"Printing Dates\"]).dt.days\n",
    "price_drop_df.head()"
   ]
  },
  {
   "cell_type": "code",
   "execution_count": null,
   "id": "b0dfacd2-93a2-4415-8780-d04dfdd8d54e",
   "metadata": {},
   "outputs": [],
   "source": [
    "df.info()"
   ]
  },
  {
   "cell_type": "code",
   "execution_count": null,
   "id": "8756f914-e0ea-4b16-be56-6b73bc13663a",
   "metadata": {},
   "outputs": [],
   "source": [
    "price_drop_df['Mana Value'] = df['Mana Value'].astype(int)"
   ]
  },
  {
   "cell_type": "code",
   "execution_count": null,
   "id": "59ef4c51-3e2b-4ba8-b324-e1d12c6d2a39",
   "metadata": {},
   "outputs": [],
   "source": [
    "price_drop_df.head()"
   ]
  },
  {
   "cell_type": "code",
   "execution_count": null,
   "id": "d24e3fa3-6296-489c-91a1-8df6282943f8",
   "metadata": {},
   "outputs": [],
   "source": [
    "type_count = df['Type Line'].value_counts()\n",
    "type_count"
   ]
  },
  {
   "cell_type": "code",
   "execution_count": null,
   "id": "ac816099-f296-4591-adc8-cd25c653981e",
   "metadata": {},
   "outputs": [],
   "source": [
    "#Land count\n",
    "keyword = 'Land'\n",
    "count_with_land = df['Type Line'].str.contains(keyword).sum()\n",
    "count_with_land\n",
    "\n",
    "#Sorcery\n",
    "#keyword = 'Sorcery'\n",
    "#count_with_sorcery = df['Type Line'].str.contains(keyword).sum()\n",
    "#count_with_sorcery"
   ]
  },
  {
   "cell_type": "code",
   "execution_count": null,
   "id": "5c525da0-9be0-4dca-9cdd-96c54dc4afb6",
   "metadata": {},
   "outputs": [],
   "source": [
    "#Sorcery\n",
    "keyword = 'Sorcery'\n",
    "count_with_sorcery = df['Type Line'].str.contains(keyword).sum()\n",
    "count_with_sorcery\n"
   ]
  },
  {
   "cell_type": "code",
   "execution_count": null,
   "id": "7eb80b8d-1435-45f5-aaed-6e87e7617b05",
   "metadata": {},
   "outputs": [],
   "source": [
    "keyword = 'Artifact'\n",
    "count_with_artifact = df['Type Line'].str.contains(keyword).sum()\n",
    "count_with_artifact\n"
   ]
  },
  {
   "cell_type": "code",
   "execution_count": null,
   "id": "589e0f3f-402a-45a7-b077-40d0a74e0614",
   "metadata": {},
   "outputs": [],
   "source": [
    "keyword = 'Creature'\n",
    "count_with_creature = df['Type Line'].str.contains(keyword).sum()\n",
    "count_with_creature"
   ]
  },
  {
   "cell_type": "code",
   "execution_count": null,
   "id": "2630880d-7ab0-4be0-a95f-129a4ea5e68e",
   "metadata": {},
   "outputs": [],
   "source": [
    "#Variables\n",
    "X = price_drop_df[['Printing Age']]  # Features (age column)\n",
    "y = price_drop_df['Price USD']  # Target variable (price column)\n",
    "\n",
    "# Fit the linear regression model\n",
    "slope, intercept, r_value, p_value, std_err = stats.linregress(X.values.flatten(), y.values)\n",
    "\n",
    "# Create the linear regression line\n",
    "predicted_prices = slope * X.values.flatten() + intercept\n",
    "\n",
    "# Plot the original data and the linear regression line\n",
    "plt.scatter(X, y, color='purple', label='Actual Data', edgecolors='black')\n",
    "plt.plot(X, predicted_prices, color='red', label='Linear Regression')\n",
    "plt.xlabel('Printing Age')\n",
    "plt.ylabel('Price USD')\n",
    "plt.title(f'Linear Regression: Price USD vs Printing Age\\nR value: {r_value:.2f}')\n",
    "plt.legend()\n",
    "#plt.show()\n",
    "plt.savefig('linear_regression_plot.svg', format='svg')"
   ]
  },
  {
   "cell_type": "code",
   "execution_count": null,
   "id": "76bc586d-d523-4b7a-9720-729799421631",
   "metadata": {},
   "outputs": [],
   "source": [
    "#Further linregress breakdown\n",
    "X = price_drop_df[['Printing Age']]  # Features (age column)\n",
    "y = price_drop_df['Price USD']  # Target variable (price column)\n",
    "\n",
    "# Fit the linear regression model\n",
    "slope, intercept, r_value, p_value, std_err = stats.linregress(X.values.flatten(), y.values)\n",
    "\n",
    "# Create the linear regression line\n",
    "predicted_prices = slope * X.values.flatten() + intercept\n",
    "\n",
    "# Specify the value of 'Rarity'\n",
    "specific_Rarity = 'rare'\n",
    "\n",
    "# Filter the DataFrame for the specific Rarity\n",
    "subset_df = price_drop_df[price_drop_df['Rarity'] == specific_Rarity]\n",
    "\n",
    "# Plot the original data and the linear regression line for the specific Rarity\n",
    "plt.figure(figsize=(8, 6))\n",
    "plt.scatter(subset_df['Printing Age'], subset_df['Price USD'], marker='o', label='Type Line: ' + specific_Rarity, edgecolors='black')\n",
    "\n",
    "plt.plot(X, predicted_prices, color='red', label='Linear Regression')\n",
    "plt.xlabel('Printing Age')\n",
    "plt.ylabel('Price USD')\n",
    "plt.title('Linear Regression: Price USD vs Printing Age for Type Line: ' + specific_Rarity)\n",
    "plt.legend()\n",
    "plt.text(0.95, 0.5, f'R value: {r_value:.2f}', transform=plt.gca().transAxes, fontsize=10, verticalalignment='center', horizontalalignment='right')\n",
    "#plt.show()\n",
    "plt.savefig('linear_regression_plot_sub1.svg', format='svg')"
   ]
  },
  {
   "cell_type": "code",
   "execution_count": null,
   "id": "5e083f6e-ef43-4ac6-b9ea-1664bc983645",
   "metadata": {},
   "outputs": [],
   "source": [
    "X = price_drop_df[['Printing Age']]  # Features (age column)\n",
    "y = price_drop_df['Price USD']  # Target variable (price column)\n",
    "\n",
    "# Fit the linear regression model\n",
    "slope, intercept, r_value, p_value, std_err = stats.linregress(X.values.flatten(), y.values)\n",
    "\n",
    "# Create the linear regression line\n",
    "predicted_prices = slope * X.values.flatten() + intercept\n",
    "\n",
    "# Specify the value of 'Rarity'\n",
    "specific_Rarity = 'mythic'\n",
    "\n",
    "# Filter the DataFrame for the specific Rarity\n",
    "subset_df = price_drop_df[price_drop_df['Rarity'] == specific_Rarity]\n",
    "\n",
    "# Plot the original data and the linear regression line for the specific Rarity\n",
    "plt.figure(figsize=(8, 6))\n",
    "plt.scatter(subset_df['Printing Age'], subset_df['Price USD'], marker='o', label='Type Line: ' + specific_Rarity, edgecolors='black')\n",
    "\n",
    "plt.plot(X, predicted_prices, color='red', label='Linear Regression')\n",
    "plt.xlabel('Printing Age')\n",
    "plt.ylabel('Price USD')\n",
    "plt.title('Linear Regression: Price USD vs Printing Age for Type Line: ' + specific_Rarity)\n",
    "plt.legend()\n",
    "plt.text(0.95, 0.5, f'R value: {r_value:.2f}', transform=plt.gca().transAxes, fontsize=10, verticalalignment='center', horizontalalignment='right')\n",
    "#plt.show()\n",
    "plt.savefig('linear_regression_plot_sub2.svg', format='svg')"
   ]
  },
  {
   "cell_type": "code",
   "execution_count": null,
   "id": "2694b892-c11f-42d9-8182-923915a6c6f8",
   "metadata": {},
   "outputs": [],
   "source": [
    "X = price_drop_df[['Printing Age']]  # Features (age column)\n",
    "y = price_drop_df['Price USD']  # Target variable (price column)\n",
    "\n",
    "# Fit the linear regression model\n",
    "slope, intercept, r_value, p_value, std_err = stats.linregress(X.values.flatten(), y.values)\n",
    "\n",
    "# Create the linear regression line\n",
    "predicted_prices = slope * X.values.flatten() + intercept\n",
    "\n",
    "# Specify the value of 'Rarity'\n",
    "specific_Rarity = 'common'\n",
    "\n",
    "# Filter the DataFrame for the specific Rarity\n",
    "subset_df = price_drop_df[price_drop_df['Rarity'] == specific_Rarity]\n",
    "\n",
    "# Plot the original data and the linear regression line for the specific Rarity\n",
    "plt.figure(figsize=(8, 6))\n",
    "plt.scatter(subset_df['Printing Age'], subset_df['Price USD'], marker='o', label='Type Line: ' + specific_Rarity, edgecolors='black')\n",
    "\n",
    "plt.plot(X, predicted_prices, color='red', label='Linear Regression')\n",
    "plt.xlabel('Printing Age')\n",
    "plt.ylabel('Price USD')\n",
    "plt.title('Linear Regression: Price USD vs Printing Age for Type Line: ' + specific_Rarity)\n",
    "plt.legend()\n",
    "plt.text(0.95, 0.5, f'R value: {r_value:.2f}', transform=plt.gca().transAxes, fontsize=10, verticalalignment='center', horizontalalignment='right')\n",
    "#plt.show()\n",
    "plt.savefig('linear_regression_plot_sub3.svg', format='svg')"
   ]
  },
  {
   "cell_type": "code",
   "execution_count": null,
   "id": "45facad3-cb05-41b7-940a-fdf1d2246e1a",
   "metadata": {},
   "outputs": [],
   "source": [
    "X = price_drop_df[['Printing Age']]  # Features (age column)\n",
    "y = price_drop_df['Price USD']  # Target variable (price column)\n",
    "\n",
    "# Fit the linear regression model\n",
    "slope, intercept, r_value, p_value, std_err = stats.linregress(X.values.flatten(), y.values)\n",
    "\n",
    "# Create the linear regression line\n",
    "predicted_prices = slope * X.values.flatten() + intercept\n",
    "\n",
    "# Specify the value of 'Rarity'\n",
    "specific_Rarity = 'uncommon'\n",
    "\n",
    "# Filter the DataFrame for the specific Rarity\n",
    "subset_df = price_drop_df[price_drop_df['Rarity'] == specific_Rarity]\n",
    "\n",
    "# Plot the original data and the linear regression line for the specific Rarity\n",
    "plt.figure(figsize=(8, 6))\n",
    "plt.scatter(subset_df['Printing Age'], subset_df['Price USD'], marker='o', label='Type Line: ' + specific_Rarity, edgecolors='black')\n",
    "plt.plot(X, predicted_prices, color='red', label='Linear Regression')\n",
    "plt.xlabel('Printing Age')\n",
    "plt.ylabel('Price USD')\n",
    "plt.title('Linear Regression: Price USD vs Printing Age for Type Line: ' + specific_Rarity)\n",
    "plt.legend()\n",
    "plt.text(0.95, 0.5, f'R value: {r_value:.2f}', transform=plt.gca().transAxes, fontsize=10, verticalalignment='center', horizontalalignment='right')\n",
    "#plt.show()\n",
    "plt.savefig('linear_regression_plot_sub4.svg', format='svg')"
   ]
  },
  {
   "cell_type": "code",
   "execution_count": null,
   "id": "d734c2bb-e8c7-4abd-b1ae-ddcb76cb59e6",
   "metadata": {},
   "outputs": [],
   "source": [
    "custom_palette = [ \"#1BC640\", \"#1C91C6\", \"#CB3D36\", \"#9432B0\"] "
   ]
  },
  {
   "cell_type": "code",
   "execution_count": null,
   "id": "4d742b86-6d81-4365-b98b-14661405dd69",
   "metadata": {},
   "outputs": [],
   "source": [
    "rarity_count = df['Rarity'].value_counts()\n",
    "rarity_count"
   ]
  },
  {
   "cell_type": "code",
   "execution_count": null,
   "id": "aad6b126-eb56-4d51-ac1a-2e640d69c786",
   "metadata": {},
   "outputs": [],
   "source": [
    "total_cards = len(df)\n",
    "\n",
    "# Calculate rarity counts\n",
    "rarity_count = df['Rarity'].value_counts()\n",
    "\n",
    "# Calculate percentages\n",
    "rarity_percentages = (rarity_count / total_cards) * 100\n",
    "\n",
    "#custom colors\n",
    "sns.set_palette(custom_palette)\n",
    "\n",
    "# Plot pie chart\n",
    "plt.figure(figsize=(8, 6))\n",
    "plt.pie(rarity_percentages, labels=rarity_percentages.index, autopct='%1.1f%%', startangle=140,)\n",
    "plt.title('Rarity Distribution')\n",
    "plt.axis('equal')  # Equal aspect ratio ensures that pie is drawn as a circle\n",
    "#plt.show()\n",
    "plt.savefig('pie_plot.svg', format='svg')"
   ]
  },
  {
   "cell_type": "code",
   "execution_count": null,
   "id": "53f718ff-650f-42ce-a308-d31c53be236d",
   "metadata": {},
   "outputs": [],
   "source": [
    "rarity_count = df['Rarity'].value_counts()\n",
    "\n",
    "# Calculate percentages\n",
    "rarity_percentages = (rarity_count / total_cards) * 100\n",
    "\n",
    "# Create a matrix from the rarity percentages\n",
    "rarity_matrix = rarity_percentages.values.reshape(1, -1)\n",
    "\n",
    "# Plot the heatmap\n",
    "plt.figure(figsize=(8, 6))\n",
    "sns.heatmap(rarity_matrix, cmap='viridis', annot=True, fmt='.1f', cbar=False)\n",
    "plt.title('Rarity Distribution')\n",
    "plt.xlabel('Rarity')\n",
    "plt.ylabel('Percentage')\n",
    "plt.xticks(ticks=range(len(rarity_percentages)), labels=rarity_percentages.index)\n",
    "plt.yticks([])  # Remove y-axis ticks\n",
    "plt.tight_layout()\n",
    "\n",
    "# Save the plot\n",
    "plt.savefig('heatmap_rarity_distribution.svg', format='svg')\n",
    "plt.show()"
   ]
  },
  {
   "cell_type": "code",
   "execution_count": null,
   "id": "78edce59-088e-428e-acc8-e553d3f6ae0c",
   "metadata": {},
   "outputs": [],
   "source": [
    "#rarity brea\n",
    "rarity_breakdown = df.groupby('Rarity')['Card'].apply(list)\n",
    "rarity_breakdown"
   ]
  },
  {
   "cell_type": "code",
   "execution_count": null,
   "id": "d0749f22-1067-4eea-9a18-843abc8f7f52",
   "metadata": {},
   "outputs": [],
   "source": [
    "#for comparing main board to sideboard\n",
    "main_sideboard = df.groupby('Main/Sideboard')['Card'].apply(list)\n",
    "main_sideboard"
   ]
  },
  {
   "cell_type": "code",
   "execution_count": null,
   "id": "a5750791-bad5-4d56-9f3e-9d08420f982e",
   "metadata": {},
   "outputs": [],
   "source": [
    "#average converted mana cost of cards in Archetype\n",
    "average_archetype = df.groupby('Archetype')['Mana Value'].mean()\n",
    "average_archetype"
   ]
  },
  {
   "cell_type": "code",
   "execution_count": null,
   "id": "e10ba7f2-b465-4dcd-b1c0-786f5b1a61cc",
   "metadata": {},
   "outputs": [],
   "source": [
    "average_archetype = average_archetype.sort_values(ascending=False)\n",
    "\n",
    "archetype_color = [\"#9432B0\"]\n",
    "sns.set_palette(archetype_color)\n",
    "\n",
    "average_archetype.plot(kind='bar', figsize=(8, 6))\n",
    "plt.xlabel('Archetype')\n",
    "plt.ylabel('Average Mana Value')\n",
    "plt.title('Average Value by Archetype')\n",
    "#plt.show()\n",
    "plt.savefig('bar_plot.svg', format='svg')"
   ]
  },
  {
   "cell_type": "code",
   "execution_count": null,
   "id": "280b7d00-ea8e-41ee-a5dc-1b0e333e99c4",
   "metadata": {
    "scrolled": true
   },
   "outputs": [],
   "source": [
    "selected_archetypes = ['Enigmatic Fires', 'Izzet Creativity', 'Izzet Phoenix', 'Atarka Red', 'Azorius Spirits', 'Rakdos Sacrifice']\n",
    "filtered_df = df[df['Archetype'].isin(selected_archetypes)]\n",
    "\n",
    "plt.figure(figsize=(10, 6))\n",
    "sns.violinplot(x='Archetype', y='Mana Value', data=df, order=filtered_df.groupby('Archetype')['Mana Value'].mean().sort_values(ascending=False).index)\n",
    "plt.xlabel('Archetype')\n",
    "plt.ylabel('Mana Value')\n",
    "plt.title('Violin Plot of Mana Value by Archetype (Selection)')\n",
    "#plt.show()\n",
    "plt.savefig('violin_plot.svg', format='svg')"
   ]
  },
  {
   "cell_type": "code",
   "execution_count": null,
   "id": "7b740ee6-3dae-4a98-ac55-35630ce13dab",
   "metadata": {},
   "outputs": [],
   "source": [
    "selected_archetypes = ['Enigmatic Fires', 'Izzet Creativity', 'Izzet Phoenix', 'Atarka Red', 'Azorius Spirits', 'Rakdos Sacrifice']\n",
    "\n",
    "# Filter the DataFrame for the selected archetypes\n",
    "filtered_df = df[df['Archetype'].isin(selected_archetypes)]\n",
    "\n",
    "plt.figure(figsize=(10, 6))\n",
    "\n",
    "# Create a box plot using Seaborn\n",
    "sns.boxplot(x='Archetype', y='Mana Value', data=filtered_df, order=selected_archetypes)\n",
    "plt.xlabel('Archetype')\n",
    "plt.ylabel('Mana Value')\n",
    "plt.title('Box Plot of Mana Value by Archetype (Selection)')\n",
    "plt.xticks(rotation=45)  # Rotate x-axis labels for better visibility\n",
    "plt.tight_layout()\n",
    "\n",
    "# Save the plot\n",
    "plt.savefig('box_plot_selected_archetypes.svg', format='svg')\n",
    "#plt.show()\n"
   ]
  },
  {
   "cell_type": "code",
   "execution_count": null,
   "id": "173f35fa-f764-4528-bbbf-f624950ded3d",
   "metadata": {},
   "outputs": [],
   "source": [
    "plt.figure(figsize=(30, 6))\n",
    "sns.scatterplot(data=df, x='Archetype', y='Mana Value', hue='Archetype', hue_order=average_archetype.index, s=100)\n",
    "plt.xlabel('Archetype')\n",
    "plt.ylabel('Mana Value')\n",
    "plt.title('Scatter Plot of Mana Value by Archetype (Descending Order)')\n",
    "plt.show()"
   ]
  },
  {
   "cell_type": "code",
   "execution_count": null,
   "id": "b660152d-43c7-488e-846a-7a2bdcc4b2f2",
   "metadata": {},
   "outputs": [],
   "source": [
    "plt.figure(figsize=(10, 6))\n",
    "sns.scatterplot(data=df, x='Archetype', y='Mana Value', size='Archetype', sizes=[200, 200, 200], hue_order=average_archetype.index)\n",
    "plt.xlabel('Archetype')\n",
    "plt.ylabel('Mana Value')\n",
    "plt.title('Bubble Plot of Mana Value by Archetype')\n",
    "plt.show()"
   ]
  },
  {
   "cell_type": "code",
   "execution_count": null,
   "id": "bc7ebf63-7a10-4d75-9bd6-3d6552f7caad",
   "metadata": {},
   "outputs": [],
   "source": [
    "price_data = df['Price USD']\n",
    "quantity_data = df['Quantity']\n",
    "\n",
    "# Create a heatmap using Seaborn's kdeplot\n",
    "plt.figure(figsize=(10, 8))\n",
    "sns.kdeplot(x=price_data, y=quantity_data, cmap='viridis', cbar=True, fill=True)\n",
    "plt.xlabel('Price')\n",
    "plt.ylabel('Quantity')\n",
    "plt.title('Heatmap of Price vs Quantity')\n",
    "plt.show()"
   ]
  },
  {
   "cell_type": "code",
   "execution_count": null,
   "id": "8f5f7fcc-3661-4afc-a133-be0c2905abd1",
   "metadata": {},
   "outputs": [],
   "source": [
    "df.corr(numeric_only=True)"
   ]
  },
  {
   "cell_type": "code",
   "execution_count": null,
   "id": "a71af6c3-88f5-46fe-b5b6-5c7b8d2335fc",
   "metadata": {},
   "outputs": [],
   "source": [
    "plt.figure(figsize=(10, 10))\n",
    "colours = df['Colours'].value_counts()\n",
    "total_cards = len(df)\n",
    "percentage_used = (colours / total_cards) * 100\n",
    "data = pd.DataFrame({'Color': colours.index, 'Percentage Used': percentage_used.values})\n",
    "sns.boxplot(x='Color', y='Percentage Used', data=data)  # Corrected variable names\n",
    "plt.title('Box Plot of Percentage of Cards Used by Color')\n",
    "plt.xlabel('Color')\n",
    "plt.ylabel('Percentage of Cards Used')\n",
    "plt.show()"
   ]
  },
  {
   "cell_type": "code",
   "execution_count": null,
   "id": "62ce593a-cd02-41b3-b179-6ba13238c47d",
   "metadata": {},
   "outputs": [],
   "source": [
    "plt.figure(figsize=(40, 5))\n",
    "\n",
    "colours = df['Colours'].value_counts()\n",
    "total_cards = len(df)\n",
    "percentage_used = (colours / total_cards) * 100\n",
    "data = pd.DataFrame({'Color': colours.index, 'percentage_used': percentage_used.values})\n",
    "\n",
    "# Create the box plot\n",
    "barplot = sns.barplot(x='Color', y='percentage_used', data=data)\n",
    "\n",
    "# Adjust the font size of the x-axis labels\n",
    "barplot.set_xlabel('Color', fontsize=30)  # Set the desired font size\n",
    "\n",
    "# Change the x-axis tick label font size\n",
    "barplot.set_xticklabels(barplot.get_xticklabels(), fontsize=10)  # Set the desired font size for x-axis tick labels\n",
    "barplot.set_yticklabels(barplot.get_yticklabels(), fontsize=14)  # Set the desired font size for x-axis tick labels\n",
    "plt.title('Bar Graph of Percentage of Cards Used by Color', fontsize=30)\n",
    "plt.ylabel('Percentage of Cards Used', fontsize=25)\n",
    "\n",
    "\n",
    "plt.savefig('linear_regression_plot.svg', format='svg')"
   ]
  },
  {
   "cell_type": "code",
   "execution_count": null,
   "id": "a9246fee-fd59-46b4-bad7-9d545b933793",
   "metadata": {},
   "outputs": [],
   "source": [
    "# Seven Create a donut chart\n",
    "plt.pie(colours, labels=colours.index, autopct='%1.1f%%', startangle=90, wedgeprops=dict(width=0.4), colors=custom_palette)\n",
    "plt.axis('equal')  # Equal aspect ratio ensures that pie is drawn as a circle.\n",
    "# Add a circle at the center to create a donut chart\n",
    "centre_circle = plt.Circle((0, 0), 0.70, fc='white')\n",
    "fig = plt.gcf()\n",
    "fig.gca().add_artist(centre_circle)\n",
    "plt.title('Donut Chart of Color Distribution')\n",
    "#plt.show()\n",
    "plt.savefig('donut_chart_colors.svg', format='svg')"
   ]
  },
  {
   "cell_type": "code",
   "execution_count": null,
   "id": "aa3ca282-8c40-43fb-942d-6c97df57087e",
   "metadata": {},
   "outputs": [],
   "source": [
    "# Seven Create a horizontal bar chart\n",
    "plt.figure(figsize=(10, 6))  # Set the figure size\n",
    "plt.barh(colours.index, colours.values, color='skyblue')\n",
    "plt.xlabel('Count')\n",
    "plt.ylabel('Colors')\n",
    "plt.title('Horizontal Bar Chart of Color Distribution')\n",
    "#plt.show()\n",
    "plt.savefig('horizontal_bar_color_chart.svg', format='svg')"
   ]
  },
  {
   "cell_type": "code",
   "execution_count": null,
   "id": "65e54c92-4c82-4289-8262-d1187fd0761f",
   "metadata": {},
   "outputs": [],
   "source": [
    "cards = df['Card'].unique()\n",
    "cards_list = cards.tolist()"
   ]
  },
  {
   "cell_type": "code",
   "execution_count": null,
   "id": "42e6e3cb-bb55-45f3-91a3-fa53160d02bf",
   "metadata": {},
   "outputs": [],
   "source": [
    "# Laura Sample dataframe with 'Card' column\n",
    "df = pd.DataFrame({'Card': cards_list})\n",
    "\n",
    "# Tokenize and count word frequencies\n",
    "keyword_frequency = {}\n",
    "\n",
    "# List of common stopwords to exclude\n",
    "stopwords = ['the', 'a', 'an', 'and', ',', ':', ';', '.', '!', '?']  \n",
    "\n",
    "# Iterate through each card name\n",
    "for card in df['Card']:\n",
    "    # Extract keywords using TextBlob\n",
    "    blob = TextBlob(card)\n",
    "    keywords = [word.lower() for word in blob.words if word.lower() not in stopwords and len(word) > 2]  # Exclude short words\n",
    "    # Update frequency count for each keyword\n",
    "    for keyword in keywords:\n",
    "        if keyword in keyword_frequency:\n",
    "            keyword_frequency[keyword] += 1\n",
    "        else:\n",
    "            keyword_frequency[keyword] = 1\n",
    "\n",
    "# Sort the keyword frequency dictionary by frequency in descending order\n",
    "sorted_keyword_frequency = dict(sorted(keyword_frequency.items(), key=lambda item: item[1], reverse=True))\n",
    "\n",
    "# Print the sorted keyword frequency\n",
    "for word, frequency in sorted_keyword_frequency.items():\n",
    "    print(f\"{word}: {frequency}\")"
   ]
  },
  {
   "cell_type": "code",
   "execution_count": null,
   "id": "9e0e92ab-b3d4-4702-aa38-8750c22d28b2",
   "metadata": {},
   "outputs": [],
   "source": [
    "# Laura Keyword Frequency Heatmap \n",
    "\n",
    "# Sort the DataFrame by frequency in descending order\n",
    "df_heatmap_sorted = df_heatmap.sort_values(by='Frequency', ascending=False)\n",
    "# Create a DataFrame with keyword frequencies (words as index, frequencies as values)\n",
    "heatmap_data = df_heatmap_sorted.pivot(index='Frequency', columns='Word', values='Frequency').fillna(0)\n",
    "# Create a heatmap\n",
    "fig = px.imshow(heatmap_data, labels=dict(color='Frequency'), x=heatmap_data.columns, y=heatmap_data.index)\n",
    "# Update layout\n",
    "fig.update_layout(\n",
    "    title=\"Keyword Frequency Heatmap\",\n",
    "    xaxis_title=\"Word\",\n",
    "    yaxis_title=\"Frequency\"\n",
    ")\n",
    "# Ensure all frequency values are included in the y-axis ticks\n",
    "fig.update_yaxes(tickmode='array', tickvals=df_heatmap_sorted['Frequency'])\n",
    "# Show the plot\n",
    "fig.show()"
   ]
  },
  {
   "cell_type": "code",
   "execution_count": null,
   "id": "d9c09c4a-cf95-40e6-8881-67065171b98b",
   "metadata": {},
   "outputs": [],
   "source": []
  }
 ],
 "metadata": {
  "kernelspec": {
   "display_name": "Python 3 (ipykernel)",
   "language": "python",
   "name": "python3"
  },
  "language_info": {
   "codemirror_mode": {
    "name": "ipython",
    "version": 3
   },
   "file_extension": ".py",
   "mimetype": "text/x-python",
   "name": "python",
   "nbconvert_exporter": "python",
   "pygments_lexer": "ipython3",
   "version": "3.10.14"
  }
 },
 "nbformat": 4,
 "nbformat_minor": 5
}
